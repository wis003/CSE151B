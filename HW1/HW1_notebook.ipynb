{
  "cells": [
    {
      "cell_type": "markdown",
      "metadata": {
        "id": "w7hmjp0V25mb"
      },
      "source": [
        "# Problem i"
      ]
    },
    {
      "cell_type": "markdown",
      "metadata": {
        "id": "DdJZWroO25me"
      },
      "source": [
        "Use this notebook to write your code for perceptron by filling in the sections marked `# TODO` and running all cells."
      ]
    },
    {
      "cell_type": "code",
      "execution_count": 10,
      "metadata": {
        "collapsed": true,
        "id": "-O2ClZJ025mf"
      },
      "outputs": [],
      "source": [
        "import numpy as np\n",
        "import matplotlib.pyplot as plt\n",
        "import itertools\n",
        "\n",
        "# code from perceptron_helper\n",
        "def predict(x, w, b):\n",
        "    '''\n",
        "    The method takes the weight vector and bias of a perceptron model, and\n",
        "    predicts the label for a single point x.\n",
        "    \n",
        "    Inputs:\n",
        "        x: A (D, ) shaped numpy array containing a single point.\n",
        "        w: A (D, ) shaped numpy array containing the weight vector.\n",
        "        b: A float containing the bias term.\n",
        "    \n",
        "    Output:\n",
        "       The label (1 or -1) for the point x.\n",
        "    '''\n",
        "    prod = np.dot(w, x) + b\n",
        "    return 1 if prod >= 0 else -1\n",
        "\n",
        "\n",
        "def plot_data(X, Y, ax):\n",
        "    # This method plots a labeled (with -1 or 1) 2D dataset.\n",
        "    ax.scatter(X[Y == 1, 0], X[Y == 1, 1], c = 'green', marker='+')\n",
        "    ax.scatter(X[Y == -1, 0], X[Y == -1, 1], c = 'red')\n",
        "\n",
        "\n",
        "def boundary(x_1, w, b):\n",
        "    # Gets the corresponding x_2 value given x_1 and the decision boundary of a\n",
        "    # perceptron model. Note this only works for a 2D perceptron.\n",
        "    if w[1] == 0.0:\n",
        "        denom = 1e-6\n",
        "    else:\n",
        "        denom = w[1]\n",
        "\n",
        "    return (-w[0] * x_1 - b) / denom\n",
        "\n",
        "\n",
        "def plot_perceptron(w, b, ax):\n",
        "    # This method plots a perceptron decision boundary line. Note this only works for \n",
        "    # 2D perceptron.    \n",
        "    xlim = ax.get_xlim(); ylim = ax.get_ylim()\n",
        "    \n",
        "    x_2s = [boundary(x_1, w, b) for x_1 in xlim]\n",
        "    ax.plot(xlim, x_2s)\n",
        "    if predict([xlim[0], ylim[0]], w, b) == -1:\n",
        "        ax.fill_between(xlim, ylim[0], x_2s, facecolor='red', alpha=0.5)\n",
        "    else:\n",
        "        ax.fill_between(xlim, x_2s, ylim[-1], facecolor='red', alpha=0.5)\n",
        "\n",
        "# from perceptron_helper import (\n",
        "#     predict,\n",
        "#     plot_data,\n",
        "#     boundary,\n",
        "#     plot_perceptron,\n",
        "# )\n",
        "\n",
        "%matplotlib inline"
      ]
    },
    {
      "cell_type": "markdown",
      "metadata": {
        "id": "UdqM_JaO25mg"
      },
      "source": [
        "## Implementation of Perceptron"
      ]
    },
    {
      "cell_type": "markdown",
      "metadata": {
        "id": "_FsxhNdi25mh"
      },
      "source": [
        "First, we will implement the perceptron algorithm. Fill in the `update_perceptron()` function so that it finds a single misclassified point and updates the weights and bias accordingly. If no point exists, the weights and bias should not change.\n",
        "\n",
        "Hint: You can use the `predict()` helper method, which labels a point 1 or -1 depending on the weights and bias."
      ]
    },
    {
      "cell_type": "code",
      "execution_count": 23,
      "metadata": {
        "collapsed": true,
        "id": "66L4jdIM25mh"
      },
      "outputs": [],
      "source": [
        "def update_perceptron(X, Y, w, b):\n",
        "    \"\"\"\n",
        "    This method updates a perceptron model. Takes in the previous weights\n",
        "    and returns weights after an update, which could be nothing.\n",
        "    \n",
        "    Inputs:\n",
        "        X: A (N, D) shaped numpy array containing a single point.\n",
        "        Y: A (N, ) shaped numpy array containing the labels for the points.\n",
        "        w: A (D, ) shaped numpy array containing the weight vector.\n",
        "        b: A float containing the bias term.\n",
        "    \n",
        "    Output:\n",
        "        next_w: A (D, ) shaped numpy array containing the next weight vector\n",
        "                after updating on a single misclassified point, if one exists.\n",
        "        next_b: The next float bias term after updating on a single\n",
        "                misclassified point, if one exists.\n",
        "    \"\"\"\n",
        "    next_w, next_b = np.copy(w), np.copy(b)\n",
        "    \n",
        "    for i in range(len(X)):\n",
        "      y_t = predict(X[i], w, b)\n",
        "      if y_t != Y[i]:\n",
        "        print(\"x = \" + str(X[i]))\n",
        "        print(\"y = \" + str(Y[i]))\n",
        "        next_w += Y[i] * X[i]\n",
        "        next_b += Y[i]\n",
        "        break\n",
        "    \n",
        "    return next_w, next_b"
      ]
    },
    {
      "cell_type": "markdown",
      "metadata": {
        "id": "D3NS6Tgw25mi"
      },
      "source": [
        "Next you will fill in the `run_perceptron()` method. The method performs single updates on a misclassified point until convergence, or max_iter updates are made. The function will return the final weights and bias. You should use the `update_perceptron()` method you implemented above."
      ]
    },
    {
      "cell_type": "code",
      "execution_count": 19,
      "metadata": {
        "collapsed": true,
        "id": "nM6ab-GT25mi"
      },
      "outputs": [],
      "source": [
        "def run_perceptron(X, Y, w, b, max_iter):\n",
        "    \"\"\"\n",
        "    This method runs the perceptron learning algorithm. Takes in initial weights\n",
        "    and runs max_iter update iterations. Returns final weights and bias.\n",
        "    \n",
        "    Inputs:\n",
        "        X: A (N, D) shaped numpy array containing a single point.\n",
        "        Y: A (D, ) shaped numpy array containing the labels for the points.\n",
        "        w: A (D, ) shaped numpy array containing the initial weight vector.\n",
        "        b: A float containing the initial bias term.\n",
        "        max_iter: An int for the maximum number of updates evaluated.\n",
        "        \n",
        "    Output:\n",
        "        w: A (D, ) shaped numpy array containing the final weight vector.\n",
        "        b: The final float bias term.\n",
        "    \"\"\"\n",
        "    t = 0\n",
        "    old_w, old_b = np.copy(w), np.copy(b)\n",
        "    while t < max_iter:\n",
        "\n",
        "      print(\"t = \" + str(t))\n",
        "      print(\"b = \" + str(b))\n",
        "      print(\"w = \" + str(w))\n",
        "\n",
        "      w, b = update_perceptron(X, Y, w, b)\n",
        "\n",
        "      print()\n",
        "      \n",
        "      if np.array_equal(old_w, w) and np.array_equal(old_b, b):\n",
        "        break\n",
        "      old_w = w\n",
        "      old_b = b\n",
        "      t += 1\n",
        "\n",
        "    return w, b"
      ]
    },
    {
      "cell_type": "markdown",
      "metadata": {
        "id": "w9vmSYfu25mj"
      },
      "source": [
        "# Problem ii"
      ]
    },
    {
      "cell_type": "markdown",
      "metadata": {
        "id": "hf7Oy8wR25mk"
      },
      "source": [
        "## Visualizing a Toy Dataset"
      ]
    },
    {
      "cell_type": "markdown",
      "metadata": {
        "id": "hu6XRPRo25mk"
      },
      "source": [
        "We will begin by training our perceptron on a toy dataset of 3 points. The green points are labelled +1 and the red points are labelled -1. We use the helper function `plot_data()` to do so."
      ]
    },
    {
      "cell_type": "code",
      "execution_count": 13,
      "metadata": {
        "collapsed": true,
        "id": "UDdcCczD25mk"
      },
      "outputs": [],
      "source": [
        "X = np.array([[ -3, -1], [0, 3], [1, -2]])\n",
        "Y = np.array([ -1, 1, 1])"
      ]
    },
    {
      "cell_type": "code",
      "execution_count": 14,
      "metadata": {
        "collapsed": true,
        "colab": {
          "base_uri": "https://localhost:8080/",
          "height": 266
        },
        "id": "gWErFkND25ml",
        "outputId": "95cb4e29-7334-4336-8d16-d8170a6da565"
      },
      "outputs": [
        {
          "output_type": "display_data",
          "data": {
            "text/plain": [
              "<Figure size 360x288 with 1 Axes>"
            ],
            "image/png": "[encoded data removed]"
          },
          "metadata": {
            "needs_background": "light"
          }
        }
      ],
      "source": [
        "fig = plt.figure(figsize=(5,4))\n",
        "ax = fig.gca(); ax.set_xlim(-4.1, 3.1); ax.set_ylim(-3.1, 4.1)\n",
        "plot_data(X, Y, ax)"
      ]
    },
    {
      "cell_type": "markdown",
      "metadata": {
        "id": "m4Tr498N25ml"
      },
      "source": [
        "## Running the Perceptron"
      ]
    },
    {
      "cell_type": "markdown",
      "metadata": {
        "id": "cE_g6t7125ml"
      },
      "source": [
        "Next, we will run the perceptron learning algorithm on this dataset. Update the code to show the weights and bias at each timestep and the misclassified point used in each update. You may change the `update_perceptron()` method to do this, but be sure to update the starter code as well to reflect those changes. "
      ]
    },
    {
      "cell_type": "markdown",
      "metadata": {
        "id": "uoR1fNN925ml"
      },
      "source": [
        "Run the below code, and fill in the corresponding table in the set."
      ]
    },
    {
      "cell_type": "code",
      "execution_count": 22,
      "metadata": {
        "collapsed": true,
        "colab": {
          "base_uri": "https://localhost:8080/"
        },
        "id": "s6VW8blQ25mm",
        "outputId": "ff448f95-629e-4041-dfbd-409c2b916c3d"
      },
      "outputs": [
        {
          "output_type": "stream",
          "name": "stdout",
          "text": [
            "t = 0\n",
            "b = 0.0\n",
            "w = [0. 1.]\n",
            "x = [ 1 -2]\n",
            "y = 1\n",
            "\n",
            "t = 1\n",
            "b = 1.0\n",
            "w = [ 1. -1.]\n",
            "x = [0 3]\n",
            "y = 1\n",
            "\n",
            "t = 2\n",
            "b = 2.0\n",
            "w = [1. 2.]\n",
            "x = [ 1 -2]\n",
            "y = 1\n",
            "\n",
            "t = 3\n",
            "b = 3.0\n",
            "w = [2. 0.]\n",
            "\n",
            "\n",
            "final w = [2. 0.], final b = 3.0\n"
          ]
        }
      ],
      "source": [
        "# Initialize weights and bias.\n",
        "weights = np.array([0.0, 1.0])\n",
        "bias = 0.0\n",
        "\n",
        "weights, bias = run_perceptron(X, Y, weights, bias, 16)\n",
        "\n",
        "print()\n",
        "print (\"final w = %s, final b = %.1f\" % (weights, bias))"
      ]
    },
    {
      "cell_type": "markdown",
      "metadata": {
        "id": "metD5gfh25mm"
      },
      "source": [
        "## Visualizating the Perceptron"
      ]
    },
    {
      "cell_type": "markdown",
      "metadata": {
        "id": "uF0fdCOb25mm"
      },
      "source": [
        "Getting all that information in table form isn't very informative. Let us visualize what the decision boundaries are at each timestep instead."
      ]
    },
    {
      "cell_type": "markdown",
      "metadata": {
        "id": "s8nug9Hs25mm"
      },
      "source": [
        "The helper functions `boundary()` and `plot_perceptron()` plot a decision boundary given a perceptron weights and bias. Note that the equation for the decision boundary is given by:\n",
        "\n",
        "$$w_1x_1 + w_2x_2 + b = 0.$$ \n",
        "\n",
        "Using some algebra, we can obtain $x_2$ from $x_1$ to plot the boundary as a line. \n",
        "\n",
        "$$x_2 = \\frac{-w_1x_2 - b}{w_2}. $$"
      ]
    },
    {
      "cell_type": "markdown",
      "metadata": {
        "id": "sGjOdDnB25mn"
      },
      "source": [
        "Below is a redefinition of the `run_perceptron()` method to visualize the points and decision boundaries at each timestep instead of printing.  Fill in the method using your previous `run_perceptron()` method, and the above helper methods.\n",
        "\n",
        "Hint: The axs element is a list of Axes, which are used as subplots for each timestep. You can  do the following:\n",
        "```\n",
        "ax = axs[i]\n",
        "```\n",
        "to get the plot correponding to $t = i$. You can then use ax.set_title() to title each subplot. You will want to use the `plot_data()` and `plot_perceptron()` helper methods."
      ]
    },
    {
      "cell_type": "code",
      "execution_count": 26,
      "metadata": {
        "collapsed": true,
        "id": "dEsff20y25mn"
      },
      "outputs": [],
      "source": [
        "def run_perceptron(X, Y, w, b, axs, max_iter):\n",
        "    \"\"\"\n",
        "    This method runs the perceptron learning algorithm. Takes in initial weights\n",
        "    and runs max_iter update iterations. Returns final weights and bias.\n",
        "    \n",
        "    Inputs:\n",
        "        X: A (N, D) shaped numpy array containing a single point.\n",
        "        Y: A (N, ) shaped numpy array containing the labels for the points.\n",
        "        w: A (D, ) shaped numpy array containing the initial weight vector.\n",
        "        b: A float containing the initial bias term.\n",
        "        axs: A list of Axes that contain suplots for each timestep. \n",
        "        max_iter: An int for the maximum number of updates evaluated.\n",
        "        \n",
        "    Output:\n",
        "        The final weight and bias vectors.\n",
        "    \"\"\"\n",
        "    \n",
        "    t = 0\n",
        "    old_w, old_b = np.copy(w), np.copy(b)\n",
        "    while t < max_iter:\n",
        "\n",
        "      print(\"t = \" + str(t))\n",
        "      print(\"b = \" + str(b))\n",
        "      print(\"w = \" + str(w))\n",
        "\n",
        "      w, b = update_perceptron(X, Y, w, b)\n",
        "\n",
        "      print()\n",
        "      \n",
        "      ax = axs[t]\n",
        "      ax.set_title(\"t = \" + str(t))\n",
        "      plot_data(X, Y, ax)\n",
        "      plot_perceptron(old_w, old_b, ax)\n",
        "\n",
        "      if np.array_equal(old_w, w) and np.array_equal(old_b, b):\n",
        "        break\n",
        "      old_w = w\n",
        "      old_b = b\n",
        "      t += 1\n",
        "\n",
        "    return w, b"
      ]
    },
    {
      "cell_type": "markdown",
      "metadata": {
        "id": "Zf1J2BKY25mn"
      },
      "source": [
        "Run the below code to get a visualization of the perceptron algorithm. The red region are areas the perceptron thinks are negative examples."
      ]
    },
    {
      "cell_type": "code",
      "execution_count": 27,
      "metadata": {
        "collapsed": true,
        "colab": {
          "base_uri": "https://localhost:8080/",
          "height": 967
        },
        "id": "hkI4V--V25mn",
        "outputId": "7bd95969-ab08-4e32-95dc-904c33dfa2a3"
      },
      "outputs": [
        {
          "output_type": "stream",
          "name": "stdout",
          "text": [
            "t = 0\n",
            "b = 0.0\n",
            "w = [0. 1.]\n",
            "x = [ 1 -2]\n",
            "y = 1\n",
            "\n",
            "t = 1\n",
            "b = 1.0\n",
            "w = [ 1. -1.]\n",
            "x = [0 3]\n",
            "y = 1\n",
            "\n",
            "t = 2\n",
            "b = 2.0\n",
            "w = [1. 2.]\n",
            "x = [ 1 -2]\n",
            "y = 1\n",
            "\n",
            "t = 3\n",
            "b = 3.0\n",
            "w = [2. 0.]\n",
            "\n"
          ]
        },
        {
          "output_type": "display_data",
          "data": {
            "text/plain": [
              "<Figure size 648x576 with 4 Axes>"
            ],
            "image/png": "[encoded data removed]"
          },
          "metadata": {
            "needs_background": "light"
          }
        }
      ],
      "source": [
        "# Initialize weights and bias.\n",
        "weights = np.array([0.0, 1.0])\n",
        "bias = 0.0\n",
        "\n",
        "f, ax_arr = plt.subplots(2, 2, sharex=True, sharey=True, figsize=(9,8))\n",
        "axs = list(itertools.chain.from_iterable(ax_arr))\n",
        "for ax in axs:\n",
        "    ax.set_xlim(-4.1, 3.1); ax.set_ylim(-3.1, 4.1)\n",
        "\n",
        "run_perceptron(X, Y, weights, bias, axs, 4)\n",
        "\n",
        "f.tight_layout()"
      ]
    },
    {
      "cell_type": "markdown",
      "metadata": {
        "id": "DV5_bze725mo"
      },
      "source": [
        "# Problem iii"
      ]
    },
    {
      "cell_type": "markdown",
      "metadata": {
        "id": "1KMJR5hA25mo"
      },
      "source": [
        "## Visualize a Non-linearly Separable Dataset."
      ]
    },
    {
      "cell_type": "markdown",
      "metadata": {
        "id": "7GZcGwda25mo"
      },
      "source": [
        "We will now work on a dataset that cannot be linearly separated, namely one that is generated by the XOR function."
      ]
    },
    {
      "cell_type": "code",
      "execution_count": 28,
      "metadata": {
        "collapsed": true,
        "id": "UaF9JlH625mo"
      },
      "outputs": [],
      "source": [
        "X = np.array([[0, 1], [1, 0], [0, 0], [1, 1]])\n",
        "Y = np.array([1, 1, -1, -1])"
      ]
    },
    {
      "cell_type": "code",
      "execution_count": 29,
      "metadata": {
        "collapsed": true,
        "colab": {
          "base_uri": "https://localhost:8080/",
          "height": 265
        },
        "id": "Yr7GV2no25mo",
        "outputId": "a6b66901-1db3-4c58-a6c0-e6f9a3877b68"
      },
      "outputs": [
        {
          "output_type": "display_data",
          "data": {
            "text/plain": [
              "<Figure size 360x288 with 1 Axes>"
            ],
            "image/png": "[encoded data removed]"
          },
          "metadata": {
            "needs_background": "light"
          }
        }
      ],
      "source": [
        "fig = plt.figure(figsize=(5,4))\n",
        "ax = fig.gca(); ax.set_xlim(-0.1, 1.1); ax.set_ylim(-0.1, 1.1)\n",
        "plot_data(X, Y, ax)"
      ]
    },
    {
      "cell_type": "markdown",
      "metadata": {
        "id": "YRn6tfnj25mo"
      },
      "source": [
        "We will now run the perceptron algorithm on this dataset. We will limit the total timesteps this time, but you should see a pattern in the updates. Run the below code."
      ]
    },
    {
      "cell_type": "code",
      "execution_count": 30,
      "metadata": {
        "collapsed": true,
        "colab": {
          "base_uri": "https://localhost:8080/",
          "height": 1000
        },
        "id": "KREEZI5x25mp",
        "outputId": "e8ed2202-5cb4-49d1-8384-51ae3ebe44c2"
      },
      "outputs": [
        {
          "output_type": "stream",
          "name": "stdout",
          "text": [
            "t = 0\n",
            "b = 0.0\n",
            "w = [0. 1.]\n",
            "x = [0 0]\n",
            "y = -1\n",
            "\n",
            "t = 1\n",
            "b = -1.0\n",
            "w = [0. 1.]\n",
            "x = [1 0]\n",
            "y = 1\n",
            "\n",
            "t = 2\n",
            "b = 0.0\n",
            "w = [1. 1.]\n",
            "x = [0 0]\n",
            "y = -1\n",
            "\n",
            "t = 3\n",
            "b = -1.0\n",
            "w = [1. 1.]\n",
            "x = [1 1]\n",
            "y = -1\n",
            "\n",
            "t = 4\n",
            "b = -2.0\n",
            "w = [0. 0.]\n",
            "x = [0 1]\n",
            "y = 1\n",
            "\n",
            "t = 5\n",
            "b = -1.0\n",
            "w = [0. 1.]\n",
            "x = [1 0]\n",
            "y = 1\n",
            "\n",
            "t = 6\n",
            "b = 0.0\n",
            "w = [1. 1.]\n",
            "x = [0 0]\n",
            "y = -1\n",
            "\n",
            "t = 7\n",
            "b = -1.0\n",
            "w = [1. 1.]\n",
            "x = [1 1]\n",
            "y = -1\n",
            "\n",
            "t = 8\n",
            "b = -2.0\n",
            "w = [0. 0.]\n",
            "x = [0 1]\n",
            "y = 1\n",
            "\n",
            "t = 9\n",
            "b = -1.0\n",
            "w = [0. 1.]\n",
            "x = [1 0]\n",
            "y = 1\n",
            "\n",
            "t = 10\n",
            "b = 0.0\n",
            "w = [1. 1.]\n",
            "x = [0 0]\n",
            "y = -1\n",
            "\n",
            "t = 11\n",
            "b = -1.0\n",
            "w = [1. 1.]\n",
            "x = [1 1]\n",
            "y = -1\n",
            "\n",
            "t = 12\n",
            "b = -2.0\n",
            "w = [0. 0.]\n",
            "x = [0 1]\n",
            "y = 1\n",
            "\n",
            "t = 13\n",
            "b = -1.0\n",
            "w = [0. 1.]\n",
            "x = [1 0]\n",
            "y = 1\n",
            "\n",
            "t = 14\n",
            "b = 0.0\n",
            "w = [1. 1.]\n",
            "x = [0 0]\n",
            "y = -1\n",
            "\n",
            "t = 15\n",
            "b = -1.0\n",
            "w = [1. 1.]\n",
            "x = [1 1]\n",
            "y = -1\n",
            "\n"
          ]
        },
        {
          "output_type": "display_data",
          "data": {
            "text/plain": [
              "<Figure size 648x576 with 16 Axes>"
            ],
            "image/png": "[encoded data removed]"
          },
          "metadata": {
            "needs_background": "light"
          }
        }
      ],
      "source": [
        "# Initialize weights and bias.\n",
        "weights = np.array([0.0, 1.0])\n",
        "bias = 0.0\n",
        "\n",
        "f, ax_arr = plt.subplots(4, 4, sharex=True, sharey=True, figsize=(9,8))\n",
        "axs = list(itertools.chain.from_iterable(ax_arr))\n",
        "for ax in axs:\n",
        "    ax.set_xlim(-0.1, 1.1); ax.set_ylim(-0.1, 1.1)\n",
        "    \n",
        "run_perceptron(X, Y, weights, bias, axs, 16)\n",
        "\n",
        "f.tight_layout()"
      ]
    }
  ],
  "metadata": {
    "anaconda-cloud": {},
    "kernelspec": {
      "display_name": "Python 3",
      "language": "python",
      "name": "python3"
    },
    "language_info": {
      "codemirror_mode": {
        "name": "ipython",
        "version": 3
      },
      "file_extension": ".py",
      "mimetype": "text/x-python",
      "name": "python",
      "nbconvert_exporter": "python",
      "pygments_lexer": "ipython3",
      "version": "3.7.7"
    },
    "colab": {
      "name": "HW1_notebook.ipynb",
      "provenance": []
    }
  },
  "nbformat": 4,
  "nbformat_minor": 0
}