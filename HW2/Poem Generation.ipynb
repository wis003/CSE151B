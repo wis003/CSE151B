{
 "cells": [
  {
   "cell_type": "markdown",
   "metadata": {},
   "source": [
    "# Pre-processing\n"
   ]
  },
  {
   "cell_type": "markdown",
   "metadata": {},
   "source": [
    "### Remove unwanted lines for better character-level training data"
   ]
  },
  {
   "cell_type": "code",
   "execution_count": 15,
   "metadata": {},
   "outputs": [],
   "source": [
    "# run only once\n",
    "# with open('poem_data/untitled.txt', 'r') as f:\n",
    "#     lines = f.readlines()\n",
    "\n",
    "# with open('poem_data/untitled.txt', 'w') as f:\n",
    "#     counter = 0\n",
    "#     for i in range(len(lines)):\n",
    "#         if counter >= 12:\n",
    "#             if counter == 13:\n",
    "#                 counter = 0\n",
    "#             else:\n",
    "#                 counter += 1\n",
    "#             continue\n",
    "#         else:\n",
    "#             counter += 1\n",
    "#             f.write(lines[i])"
   ]
  },
  {
   "cell_type": "markdown",
   "metadata": {},
   "source": [
    "### Load data"
   ]
  },
  {
   "cell_type": "code",
   "execution_count": 26,
   "metadata": {
    "scrolled": true
   },
   "outputs": [
    {
     "name": "stdout",
     "output_type": "stream",
     "text": [
      "data has 91841 characters, 38 unique.\n",
      "{'b': 0, 'p': 1, ':': 2, 'e': 3, 'z': 4, 'y': 5, 'i': 6, ' ': 7, 'r': 8, \"'\": 9, 's': 10, 'c': 11, 'x': 12, 't': 13, 'k': 14, 'q': 15, 'd': 16, '.': 17, '?': 18, 'v': 19, 'm': 20, 'h': 21, '-': 22, 'w': 23, ',': 24, 'u': 25, 'o': 26, 'n': 27, '!': 28, 'j': 29, ';': 30, ')': 31, 'l': 32, 'f': 33, 'a': 34, '(': 35, '\\n': 36, 'g': 37}\n",
      "{0: 'b', 1: 'p', 2: ':', 3: 'e', 4: 'z', 5: 'y', 6: 'i', 7: ' ', 8: 'r', 9: \"'\", 10: 's', 11: 'c', 12: 'x', 13: 't', 14: 'k', 15: 'q', 16: 'd', 17: '.', 18: '?', 19: 'v', 20: 'm', 21: 'h', 22: '-', 23: 'w', 24: ',', 25: 'u', 26: 'o', 27: 'n', 28: '!', 29: 'j', 30: ';', 31: ')', 32: 'l', 33: 'f', 34: 'a', 35: '(', 36: '\\n', 37: 'g'}\n"
     ]
    }
   ],
   "source": [
    "import numpy as np\n",
    "\n",
    "data = open('poem_data/shakespeare.txt', 'r').read().lower() # should be simple plain text file\n",
    "chars = list(set(data))\n",
    "data_size, vocab_size = len(data), len(chars)\n",
    "\n",
    "print(f'data has %d characters, %d unique.' % (data_size, vocab_size))\n",
    "\n",
    "char_to_ix = { ch:i for i,ch in enumerate(chars) }\n",
    "ix_to_char = { i:ch for i,ch in enumerate(chars) }\n",
    "\n",
    "print(char_to_ix)\n",
    "print(ix_to_char)"
   ]
  },
  {
   "cell_type": "markdown",
   "metadata": {},
   "source": [
    "### Tokenization"
   ]
  },
  {
   "cell_type": "code",
   "execution_count": 28,
   "metadata": {},
   "outputs": [
    {
     "name": "stdout",
     "output_type": "stream",
     "text": [
      "['f', 'r', 'o', 'm', ' ', 'f', 'a', 'i', 'r', 'e', 's', 't', ' ', 'c', 'r', 'e', 'a', 't', 'u', 'r', 'e', 's', ' ', 'w', 'e', ' ', 'd', 'e', 's', 'i', 'r', 'e', ' ', 'i', 'n', 'c', 'r', 'e', 'a', 's', 'e', ',', '\\n']\n",
      "['t', 'h', 'a', 't', ' ', 't', 'h', 'e', 'r', 'e', 'b', 'y', ' ', 'b', 'e', 'a', 'u', 't', 'y', \"'\", 's', ' ', 'r', 'o', 's', 'e', ' ', 'm', 'i', 'g', 'h', 't', ' ', 'n', 'e', 'v', 'e', 'r', ' ', 'd', 'i', 'e', ',', '\\n']\n",
      "['b', 'u', 't', ' ', 'a', 's', ' ', 't', 'h', 'e', ' ', 'r', 'i', 'p', 'e', 'r', ' ', 's', 'h', 'o', 'u', 'l', 'd', ' ', 'b', 'y', ' ', 't', 'i', 'm', 'e', ' ', 'd', 'e', 'c', 'e', 'a', 's', 'e', ',', '\\n']\n"
     ]
    }
   ],
   "source": [
    "with open('poem_data/shakespeare.txt', 'r') as f:\n",
    "    lines = f.readlines()\n",
    "lines_lower = [line.lower() for line in lines]\n",
    "\n",
    "tokens = [list(line) for line in lines_lower]\n",
    "for i in range(3):\n",
    "    print(tokens[i])"
   ]
  },
  {
   "cell_type": "markdown",
   "metadata": {},
   "source": [
    "### Generate Statistics"
   ]
  },
  {
   "cell_type": "code",
   "execution_count": 58,
   "metadata": {},
   "outputs": [
    {
     "name": "stdout",
     "output_type": "stream",
     "text": [
      "Counter({' ': 15628, 'e': 9030, 't': 7024, 'o': 5543, 'h': 4929, 's': 4850, 'a': 4803, 'i': 4542, 'n': 4397, 'r': 4089, 'l': 3008, 'd': 2695, 'u': 2260, '\\n': 2097, 'm': 2047, 'y': 1934, 'w': 1839, ',': 1821, 'f': 1620, 'g': 1330, 'c': 1301, 'b': 1207, 'p': 985, 'v': 898, 'k': 537, '.': 396, \"'\": 371, ':': 158, '?': 89, '-': 79, 'j': 67, 'x': 59, 'q': 51, '(': 43, ')': 43, ';': 29, '!': 22, 'z': 20})\n"
     ]
    },
    {
     "data": {
      "image/png": "[encoded data removed]",
      "text/plain": [
       "<Figure size 720x360 with 1 Axes>"
      ]
     },
     "metadata": {
      "needs_background": "light"
     },
     "output_type": "display_data"
    }
   ],
   "source": [
    "from collections import Counter\n",
    "import matplotlib.pyplot as plt\n",
    "\n",
    "# count how many times each character appears in the dataset\n",
    "count = Counter(data)\n",
    "print(count)\n",
    "\n",
    "count = {k: (v / data_size) * 100 for k, v in count.items()}\n",
    "count = sorted(count.items(), key=lambda x: x[1], reverse=True)\n",
    "\n",
    "fig = plt.figure(figsize = (10, 5))\n",
    "plt.bar([x[0] for x in count], [x[1] for x in count])\n",
    "\n",
    "plt.xlabel(\"char\")\n",
    "plt.ylabel(\"percentage of total occurrences\")\n",
    "plt.title(\"char occurrences\")\n",
    "plt.show()"
   ]
  },
  {
   "cell_type": "markdown",
   "metadata": {},
   "source": []
  }
 ],
 "metadata": {
  "kernelspec": {
   "display_name": "Python 3",
   "language": "python",
   "name": "python3"
  },
  "language_info": {
   "codemirror_mode": {
    "name": "ipython",
    "version": 3
   },
   "file_extension": ".py",
   "mimetype": "text/x-python",
   "name": "python",
   "nbconvert_exporter": "python",
   "pygments_lexer": "ipython3",
   "version": "3.7.4"
  }
 },
 "nbformat": 4,
 "nbformat_minor": 2
}
