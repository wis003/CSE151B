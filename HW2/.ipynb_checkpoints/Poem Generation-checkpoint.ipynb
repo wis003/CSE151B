{
 "cells": [
  {
   "cell_type": "markdown",
   "metadata": {},
   "source": [
    "# Pre-processing\n"
   ]
  },
  {
   "cell_type": "markdown",
   "metadata": {},
   "source": [
    "Remove unwanted lines for better character-level training data"
   ]
  },
  {
   "cell_type": "code",
   "execution_count": 15,
   "metadata": {},
   "outputs": [],
   "source": [
    "# run only once\n",
    "with open('poem_data/untitled.txt', 'r') as f:\n",
    "    lines = f.readlines()\n",
    "\n",
    "with open('poem_data/untitled.txt', 'w') as f:\n",
    "    counter = 0\n",
    "    for i in range(len(lines)):\n",
    "        if counter >= 12:\n",
    "            if counter == 13:\n",
    "                counter = 0\n",
    "            else:\n",
    "                counter += 1\n",
    "            continue\n",
    "        else:\n",
    "            counter += 1\n",
    "            f.write(lines[i])"
   ]
  },
  {
   "cell_type": "markdown",
   "metadata": {},
   "source": [
    "Load data and generate statistics"
   ]
  },
  {
   "cell_type": "code",
   "execution_count": 16,
   "metadata": {},
   "outputs": [
    {
     "name": "stdout",
     "output_type": "stream",
     "text": [
      "data has 91841 characters, 61 unique.\n"
     ]
    }
   ],
   "source": [
    "import numpy as np\n",
    "\n",
    "data = open('poem_data/shakespeare.txt', 'r').read() # should be simple plain text file\n",
    "chars = list(set(data))\n",
    "data_size, vocab_size = len(data), len(chars)\n",
    "\n",
    "print(f'data has %d characters, %d unique.' % (data_size, vocab_size))\n",
    "\n",
    "char_to_ix = { ch:i for i,ch in enumerate(chars) }\n",
    "ix_to_char = { i:ch for i,ch in enumerate(chars) }"
   ]
  },
  {
   "cell_type": "code",
   "execution_count": 18,
   "metadata": {},
   "outputs": [
    {
     "name": "stdout",
     "output_type": "stream",
     "text": [
      "['b', 'W', 'p', 'R', ':', 'e', 'T', 'y', 'z', 'i', 'A', ' ', 'J', 'F', 'r', \"'\", 'V', 's', 'c', 'x', 't', 'k', 'q', 'K', 'd', '.', '?', 'C', 'v', 'm', 'h', 'D', 'H', '-', 'w', ',', 'u', 'G', 'Y', 'L', 'N', 'o', 'B', 'M', 'n', 'I', 'j', 'U', '!', 'O', ';', ')', 'l', 'P', 'f', 'S', 'E', 'a', '(', '\\n', 'g']\n"
     ]
    }
   ],
   "source": [
    "print(chars)"
   ]
  }
 ],
 "metadata": {
  "kernelspec": {
   "display_name": "Python 3",
   "language": "python",
   "name": "python3"
  },
  "language_info": {
   "codemirror_mode": {
    "name": "ipython",
    "version": 3
   },
   "file_extension": ".py",
   "mimetype": "text/x-python",
   "name": "python",
   "nbconvert_exporter": "python",
   "pygments_lexer": "ipython3",
   "version": "3.7.4"
  }
 },
 "nbformat": 4,
 "nbformat_minor": 2
}
