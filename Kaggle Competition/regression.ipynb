{
  "cells": [
    {
      "cell_type": "markdown",
      "id": "718c38cf",
      "metadata": {
        "id": "718c38cf"
      },
      "source": [
        "## Install the package dependencies before running this notebook"
      ]
    },
    {
      "cell_type": "code",
      "execution_count": 2,
      "id": "16ac7530",
      "metadata": {
        "colab": {
          "base_uri": "https://localhost:8080/",
          "height": 87
        },
        "id": "16ac7530",
        "outputId": "5d39623d-1b0c-40da-90b8-15a85e9482cd"
      },
      "outputs": [
        {
          "output_type": "stream",
          "name": "stdout",
          "text": [
            "Looking in indexes: https://pypi.org/simple, https://us-python.pkg.dev/colab-wheels/public/simple/\n",
            "Requirement already satisfied: pickle5 in /usr/local/lib/python3.7/dist-packages (0.0.12)\n"
          ]
        },
        {
          "output_type": "execute_result",
          "data": {
            "text/plain": [
              "'\\n    number of trajectories in each city\\n    # austin --  train: 43041 test: 6325 \\n    # miami -- train: 55029 test:7971\\n    # pittsburgh -- train: 43544 test: 6361\\n    # dearborn -- train: 24465 test: 3671\\n    # washington-dc -- train: 25744 test: 3829\\n    # palo-alto -- train:  11993 test:1686\\n\\n    trajectories sampled at 10HZ rate, input 5 seconds, output 6 seconds\\n    \\n'"
            ],
            "application/vnd.google.colaboratory.intrinsic+json": {
              "type": "string"
            }
          },
          "metadata": {},
          "execution_count": 2
        }
      ],
      "source": [
        "!pip3 install pickle5\n",
        "from google.colab import drive\n",
        "drive.mount('/content/drive')\n",
        "\n",
        "import torch\n",
        "from torch.utils.data import Dataset, DataLoader\n",
        "import os, os.path \n",
        "import numpy \n",
        "import pickle5 as pickle\n",
        "from glob import glob\n",
        "\n",
        "\"\"\"\n",
        "    number of trajectories in each city\n",
        "    # austin --  train: 43041 test: 6325 \n",
        "    # miami -- train: 55029 test:7971\n",
        "    # pittsburgh -- train: 43544 test: 6361\n",
        "    # dearborn -- train: 24465 test: 3671\n",
        "    # washington-dc -- train: 25744 test: 3829\n",
        "    # palo-alto -- train:  11993 test:1686\n",
        "\n",
        "    trajectories sampled at 10HZ rate, input 5 seconds, output 6 seconds\n",
        "    \n",
        "\"\"\""
      ]
    },
    {
      "cell_type": "markdown",
      "id": "0b472cf2",
      "metadata": {
        "id": "0b472cf2"
      },
      "source": [
        "## Create a Torch.Dataset class for the training dataset"
      ]
    },
    {
      "cell_type": "code",
      "execution_count": 4,
      "id": "091abbb7",
      "metadata": {
        "id": "091abbb7"
      },
      "outputs": [],
      "source": [
        "from glob import glob\n",
        "import numpy as np\n",
        "\n",
        "ROOT_PATH = \"/content/drive/MyDrive/UCSD/Classes/CSE 151B/Kaggle Competition/Data/\"\n",
        "\n",
        "cities = [\"austin\", \"miami\", \"pittsburgh\", \"dearborn\", \"washington-dc\", \"palo-alto\"]\n",
        "splits = [\"train\", \"test\"]\n",
        "\n",
        "def get_city_trajectories(city=\"palo-alto\", split=\"train\", normalized=False):\n",
        "\n",
        "    outputs = None\n",
        "    \n",
        "    if split==\"train\":\n",
        "        f_in = ROOT_PATH + split + \"/\" + city + \"_inputs\"\n",
        "        inputs = np.asarray(pickle.load(open(f_in, \"rb\")))\n",
        "#         n = len(inputs)\n",
        "#         inputs = np.asarray(inputs)[:int(n * 0.8)]\n",
        "        \n",
        "        f_out = ROOT_PATH + split + \"/\" + city + \"_outputs\"\n",
        "        outputs = np.asarray(pickle.load(open(f_out, \"rb\")))\n",
        "#         outputs = np.asarray(outputs)[:int(n * 0.8)]\n",
        "        \n",
        "    elif split == 'val':\n",
        "        f_in = ROOT_PATH + 'train' + \"/\" + city + \"_inputs\"\n",
        "        inputs = pickle.load(open(f_in, \"rb\"))\n",
        "        n = len(inputs)\n",
        "        inputs = np.asarray(inputs)[int(n * 0.8):]\n",
        "        \n",
        "        f_out = ROOT_PATH + 'train' + \"/\" + city + \"_outputs\"\n",
        "        outputs = pickle.load(open(f_out, \"rb\"))\n",
        "        outputs = np.asarray(outputs)[int(n * 0.8):]\n",
        "    \n",
        "    else:\n",
        "        f_in = ROOT_PATH + split + \"/\" + city + \"_inputs\"\n",
        "        inputs = pickle.load(open(f_in, \"rb\"))\n",
        "        n = len(inputs)\n",
        "        inputs = np.asarray(inputs)\n",
        "\n",
        "    return inputs, outputs\n",
        "\n",
        "class ArgoverseDataset(Dataset):\n",
        "    \"\"\"Dataset class for Argoverse\"\"\"\n",
        "    def __init__(self, city: str, split:str, transform=None):\n",
        "        super(ArgoverseDataset, self).__init__()\n",
        "        self.transform = transform\n",
        "\n",
        "        self.inputs, self.outputs = get_city_trajectories(city=city, split=split, normalized=False)\n",
        "\n",
        "    def __len__(self):\n",
        "        return len(self.inputs)\n",
        "\n",
        "    def __getitem__(self, idx):\n",
        "\n",
        "        data = (self.inputs[idx], self.outputs[idx])\n",
        "            \n",
        "        if self.transform:\n",
        "            data = self.transform(data)\n",
        "\n",
        "        return data"
      ]
    },
    {
      "cell_type": "markdown",
      "id": "058453cc",
      "metadata": {
        "id": "058453cc"
      },
      "source": [
        "## Create dataset for training and testing"
      ]
    },
    {
      "cell_type": "code",
      "execution_count": 11,
      "id": "ee5b7ae0",
      "metadata": {
        "colab": {
          "base_uri": "https://localhost:8080/"
        },
        "id": "ee5b7ae0",
        "outputId": "0dfae89e-202e-4c12-d861-4afb83a3ae65"
      },
      "outputs": [
        {
          "output_type": "stream",
          "name": "stdout",
          "text": [
            "Total training data:\n",
            "(203816, 50, 2)\n",
            "(203816, 60, 2)\n",
            "(203816, 110)\n",
            "(203816, 110)\n",
            "Total testing data:\n",
            "(29843, 50, 2)\n",
            "(29843, 50)\n",
            "(29843, 50)\n"
          ]
        }
      ],
      "source": [
        "train_dataset = ArgoverseDataset(city = 'austin', split = 'train')\n",
        "train_input = train_dataset.inputs\n",
        "train_output = train_dataset.outputs\n",
        "for city in cities:\n",
        "    train_dataset = ArgoverseDataset(city = city, split = 'train')\n",
        "    \n",
        "    if city != 'austin':\n",
        "        train_input = np.concatenate((train_input, train_dataset.inputs))\n",
        "        train_output = np.concatenate((train_output, train_dataset.outputs))\n",
        "\n",
        "# expect (203816, 50, 2), (203816, 60, 2)\n",
        "print(\"Total training data:\")\n",
        "print(train_input.shape)\n",
        "print(train_output.shape)\n",
        "\n",
        "total_train = np.hstack((train_input, train_output))\n",
        "train_X = total_train[:,:,0]\n",
        "train_Y = total_train[:,:,1]\n",
        "print(train_X.shape)\n",
        "print(train_Y.shape)\n",
        "\n",
        "test_dataset = ArgoverseDataset(city = 'austin', split = 'test')\n",
        "test_input = test_dataset.inputs\n",
        "for city in cities:\n",
        "    test_dataset = ArgoverseDataset(city = city, split = 'test')\n",
        "    \n",
        "    if city != 'austin':\n",
        "        test_input = np.concatenate((test_input, test_dataset.inputs))\n",
        "\n",
        "# expect (29843, 50, 2)\n",
        "print(\"Total testing data:\")\n",
        "print(test_input.shape)\n",
        "\n",
        "test_X = test_input[:,:,0]\n",
        "test_Y = test_input[:,:,1]\n",
        "print(test_X.shape)\n",
        "print(test_Y.shape)"
      ]
    },
    {
      "cell_type": "markdown",
      "source": [
        "## Training"
      ],
      "metadata": {
        "id": "CqNAAf-xNBpi"
      },
      "id": "CqNAAf-xNBpi"
    },
    {
      "cell_type": "code",
      "source": [
        "from sklearn.linear_model import LinearRegression\n",
        "from tqdm.notebook import tqdm\n",
        "\n",
        "input_X = train_X[:, :50]\n",
        "output_X = train_X[:, 50:]\n",
        "input_Y = train_Y[:, :50]\n",
        "output_Y = train_Y[:, 50:]\n",
        "\n",
        "models = [None] * 120 # order is x_i, y_i for i < 60\n",
        "\n",
        "for i in tqdm(range(60)):\n",
        "    models[2*i] = LinearRegression().fit(input_X, output_X[:, i])\n",
        "    input_X = np.insert(input_X, 50 + i, output_X[:, i], axis=1)\n",
        "\n",
        "    models[2*i + 1] = LinearRegression().fit(input_Y, output_Y[:, i])\n",
        "    input_Y = np.insert(input_Y, 50 + i, output_Y[:, i], axis=1)"
      ],
      "metadata": {
        "colab": {
          "base_uri": "https://localhost:8080/",
          "height": 49,
          "referenced_widgets": [
            "3bb600daf37246b6a2d85c1386ed9cdf",
            "5a7af8835b5d43eeac304beab3ef4af5",
            "ae18df257e144a66b67499e056d53689",
            "9ef2f5a9f9834a389e2c626cea5e2c43",
            "11832231ef6d407a97fca531049ae5c4",
            "88ba72c6022242b98933b410acc9e9e0",
            "e67c30b8f54f4495ae50854706c1638a",
            "bc9f0138e88a45cb8c8c3c9c10d89884",
            "908bc93040924503ab2a57fae1e920c2",
            "644d4274e46647e18e3f925542eabeae",
            "8896ff7417f5484593ef2d0beb23de58"
          ]
        },
        "id": "Jd1v9K7lovjG",
        "outputId": "49b5d035-d1c2-46c3-8592-a00b583c3070"
      },
      "id": "Jd1v9K7lovjG",
      "execution_count": 8,
      "outputs": [
        {
          "output_type": "display_data",
          "data": {
            "text/plain": [
              "  0%|          | 0/60 [00:00<?, ?it/s]"
            ],
            "application/vnd.jupyter.widget-view+json": {
              "version_major": 2,
              "version_minor": 0,
              "model_id": "3bb600daf37246b6a2d85c1386ed9cdf"
            }
          },
          "metadata": {}
        }
      ]
    },
    {
      "cell_type": "markdown",
      "id": "8303614f",
      "metadata": {
        "id": "8303614f"
      },
      "source": [
        "## Testing"
      ]
    },
    {
      "cell_type": "code",
      "execution_count": 12,
      "id": "14aafbd4",
      "metadata": {
        "colab": {
          "base_uri": "https://localhost:8080/",
          "height": 84,
          "referenced_widgets": [
            "50c36304179f4f95a671349641aa2a34",
            "0e9f5510e4c241e297ce3739536cca49",
            "959b22df91e5426faddd3e06aa366de1",
            "8e47e22f215746d8b8ac5ec7f38d9201",
            "131d594130a54cdeb81869865fa4c7fc",
            "8b815ca8de0e4fd3848097a103c54c67",
            "168fea8773e44235bebc240197c842c0",
            "74a78e8eb583460fa88a764407d50835",
            "3fdc8f4f11d3411ab90197480abae20f",
            "d5b175e4c9d04a0bbaa86766a43bd0d0",
            "3380108d8cfd4db7afe87f951c87b245"
          ]
        },
        "id": "14aafbd4",
        "outputId": "2da1c5e6-30f7-425c-b840-5f3988466546"
      },
      "outputs": [
        {
          "output_type": "display_data",
          "data": {
            "text/plain": [
              "  0%|          | 0/60 [00:00<?, ?it/s]"
            ],
            "application/vnd.jupyter.widget-view+json": {
              "version_major": 2,
              "version_minor": 0,
              "model_id": "50c36304179f4f95a671349641aa2a34"
            }
          },
          "metadata": {}
        },
        {
          "output_type": "stream",
          "name": "stdout",
          "text": [
            "(29843, 110)\n",
            "(29843, 110)\n"
          ]
        }
      ],
      "source": [
        "for i in tqdm(range(60)):\n",
        "    pred_X = models[2*i].predict(test_X)\n",
        "    pred_Y = models[2*i + 1].predict(test_Y)\n",
        "    test_X = np.insert(test_X, 50 + i, pred_X, axis=1)\n",
        "    test_Y = np.insert(test_Y, 50 + i, pred_Y, axis=1)\n",
        "\n",
        "print(test_X.shape)\n",
        "print(test_Y.shape)"
      ]
    },
    {
      "cell_type": "markdown",
      "source": [
        "## Generate Submission"
      ],
      "metadata": {
        "id": "SLeaP2xuXAdo"
      },
      "id": "SLeaP2xuXAdo"
    },
    {
      "cell_type": "code",
      "source": [
        "import pandas as pd\n",
        "\n",
        "df = pd.read_csv(ROOT_PATH + 'sample_submission.csv')\n",
        "int_col = df.select_dtypes(include=['int'])\n",
        "for col in int_col.columns.values:\n",
        "    df[col] = df[col].astype('float32')\n",
        "\n",
        "for i in tqdm(range(len(test_X))):\n",
        "    df.iloc[i, 1:121] = np.ravel(np.vstack((test_X[i, 50:], test_Y[i, 50:])).T)\n",
        "\n",
        "\n",
        "df.to_csv(ROOT_PATH + 'submission.csv', index=False)"
      ],
      "metadata": {
        "colab": {
          "base_uri": "https://localhost:8080/",
          "height": 49,
          "referenced_widgets": [
            "40c8efadc25d4e31a74f0edb2048d759",
            "20cd8937a92241c4a7bfa0899ed2bcc4",
            "fa24fa12b0984bd7a2f0889c1be7427a",
            "a260316011604ec3b5e1adf531b1c7cc",
            "fb344167cb174aa8a5e40e2bb542e7c0",
            "254accc5863c43a29161408e9f710a22",
            "6089127b17da4f7bb2f575c08970ac7a",
            "aebefce765ac44aa9547cf58388d776f",
            "374736003384402a83cd6b8cacaa8e13",
            "320c096e2a724f0db86c392ae2a97962",
            "928d3f4a6cb544d59b758b2d2366494b"
          ]
        },
        "id": "CEA8GDo-W_7P",
        "outputId": "e73e2fb6-eeba-4fbf-c9b6-5f76efd729cd"
      },
      "id": "CEA8GDo-W_7P",
      "execution_count": 27,
      "outputs": [
        {
          "output_type": "display_data",
          "data": {
            "text/plain": [
              "  0%|          | 0/29843 [00:00<?, ?it/s]"
            ],
            "application/vnd.jupyter.widget-view+json": {
              "version_major": 2,
              "version_minor": 0,
              "model_id": "40c8efadc25d4e31a74f0edb2048d759"
            }
          },
          "metadata": {}
        }
      ]
    },
    {
      "cell_type": "markdown",
      "id": "6f80b5e4",
      "metadata": {
        "id": "6f80b5e4"
      },
      "source": [
        "## Sample a batch of data and visualize "
      ]
    },
    {
      "cell_type": "code",
      "execution_count": null,
      "id": "c6507c9a",
      "metadata": {
        "id": "c6507c9a",
        "outputId": "a76cb479-ed5b-4299-de4a-71e9ff9256e8"
      },
      "outputs": [
        {
          "name": "stdout",
          "output_type": "stream",
          "text": [
            "39\n",
            "413896.1825946247\n",
            "(1, 60, 2)\n",
            "(60, 2)\n"
          ]
        },
        {
          "data": {
            "image/png": "[encoded data removed]",
            "text/plain": [
              "<Figure size 288x288 with 1 Axes>"
            ]
          },
          "metadata": {
            "needs_background": "light"
          },
          "output_type": "display_data"
        },
        {
          "name": "stdout",
          "output_type": "stream",
          "text": [
            "984\n",
            "28327.25811416954\n",
            "(1, 60, 2)\n",
            "(60, 2)\n"
          ]
        },
        {
          "data": {
            "image/png": "[encoded data removed]",
            "text/plain": [
              "<Figure size 288x288 with 1 Axes>"
            ]
          },
          "metadata": {
            "needs_background": "light"
          },
          "output_type": "display_data"
        },
        {
          "name": "stdout",
          "output_type": "stream",
          "text": [
            "3075\n",
            "129714.85896842205\n",
            "(1, 60, 2)\n",
            "(60, 2)\n"
          ]
        },
        {
          "data": {
            "image/png": "[encoded data removed]",
            "text/plain": [
              "<Figure size 288x288 with 1 Axes>"
            ]
          },
          "metadata": {
            "needs_background": "light"
          },
          "output_type": "display_data"
        },
        {
          "name": "stdout",
          "output_type": "stream",
          "text": [
            "6132\n",
            "48474.49989137119\n",
            "(1, 60, 2)\n",
            "(60, 2)\n"
          ]
        },
        {
          "data": {
            "image/png": "[encoded data removed]",
            "text/plain": [
              "<Figure size 288x288 with 1 Axes>"
            ]
          },
          "metadata": {
            "needs_background": "light"
          },
          "output_type": "display_data"
        }
      ],
      "source": [
        "import matplotlib.pyplot as plt\n",
        "\n",
        "check = [39, 984, 3075, 6132]\n",
        "\n",
        "check_dataset = ArgoverseDataset(city = 'austin', split = 'train')\n",
        "for i in range(len(check_dataset.inputs)):\n",
        "    if i in check:\n",
        "        data = torch.from_numpy(check_dataset.inputs[i]).to(device)\n",
        "        out = check_dataset.outputs[i]\n",
        "        preds = pred(data).cpu().detach().numpy()\n",
        "        \n",
        "        loss = ((preds - out) ** 2).sum()\n",
        "        print(i)\n",
        "        print(loss)\n",
        "        print(preds.shape)\n",
        "        print(out.shape)\n",
        "        \n",
        "        plt.figure(figsize=(4, 4))\n",
        "        plt.scatter(preds[0, :, 0], preds[0, :, 1], label='prediction')\n",
        "        plt.scatter(out[:, 0], out[:, 1], label='gt_out')\n",
        "        plt.scatter(check_dataset.inputs[i][:, 0], check_dataset.inputs[i][:, 1], label='gt_in')\n",
        "        plt.xlabel('X coordinates')\n",
        "        plt.ylabel('Y coordinates')\n",
        "        plt.title(i, fontweight =\"bold\")\n",
        "        plt.legend()\n",
        "        plt.show()"
      ]
    }
  ],
  "metadata": {
    "kernelspec": {
      "display_name": "Python 3 (ipykernel)",
      "language": "python",
      "name": "python3"
    },
    "language_info": {
      "codemirror_mode": {
        "name": "ipython",
        "version": 3
      },
      "file_extension": ".py",
      "mimetype": "text/x-python",
      "name": "python",
      "nbconvert_exporter": "python",
      "pygments_lexer": "ipython3",
      "version": "3.9.5"
    },
    "colab": {
      "name": "regression.ipynb",
      "provenance": []
    },
    "widgets": {
      "application/vnd.jupyter.widget-state+json": {
        "3bb600daf37246b6a2d85c1386ed9cdf": {
          "model_module": "@jupyter-widgets/controls",
          "model_name": "HBoxModel",
          "model_module_version": "1.5.0",
          "state": {
            "_dom_classes": [],
            "_model_module": "@jupyter-widgets/controls",
            "_model_module_version": "1.5.0",
            "_model_name": "HBoxModel",
            "_view_count": null,
            "_view_module": "@jupyter-widgets/controls",
            "_view_module_version": "1.5.0",
            "_view_name": "HBoxView",
            "box_style": "",
            "children": [
              "IPY_MODEL_5a7af8835b5d43eeac304beab3ef4af5",
              "IPY_MODEL_ae18df257e144a66b67499e056d53689",
              "IPY_MODEL_9ef2f5a9f9834a389e2c626cea5e2c43"
            ],
            "layout": "IPY_MODEL_11832231ef6d407a97fca531049ae5c4"
          }
        },
        "5a7af8835b5d43eeac304beab3ef4af5": {
          "model_module": "@jupyter-widgets/controls",
          "model_name": "HTMLModel",
          "model_module_version": "1.5.0",
          "state": {
            "_dom_classes": [],
            "_model_module": "@jupyter-widgets/controls",
            "_model_module_version": "1.5.0",
            "_model_name": "HTMLModel",
            "_view_count": null,
            "_view_module": "@jupyter-widgets/controls",
            "_view_module_version": "1.5.0",
            "_view_name": "HTMLView",
            "description": "",
            "description_tooltip": null,
            "layout": "IPY_MODEL_88ba72c6022242b98933b410acc9e9e0",
            "placeholder": "​",
            "style": "IPY_MODEL_e67c30b8f54f4495ae50854706c1638a",
            "value": "100%"
          }
        },
        "ae18df257e144a66b67499e056d53689": {
          "model_module": "@jupyter-widgets/controls",
          "model_name": "FloatProgressModel",
          "model_module_version": "1.5.0",
          "state": {
            "_dom_classes": [],
            "_model_module": "@jupyter-widgets/controls",
            "_model_module_version": "1.5.0",
            "_model_name": "FloatProgressModel",
            "_view_count": null,
            "_view_module": "@jupyter-widgets/controls",
            "_view_module_version": "1.5.0",
            "_view_name": "ProgressView",
            "bar_style": "success",
            "description": "",
            "description_tooltip": null,
            "layout": "IPY_MODEL_bc9f0138e88a45cb8c8c3c9c10d89884",
            "max": 60,
            "min": 0,
            "orientation": "horizontal",
            "style": "IPY_MODEL_908bc93040924503ab2a57fae1e920c2",
            "value": 60
          }
        },
        "9ef2f5a9f9834a389e2c626cea5e2c43": {
          "model_module": "@jupyter-widgets/controls",
          "model_name": "HTMLModel",
          "model_module_version": "1.5.0",
          "state": {
            "_dom_classes": [],
            "_model_module": "@jupyter-widgets/controls",
            "_model_module_version": "1.5.0",
            "_model_name": "HTMLModel",
            "_view_count": null,
            "_view_module": "@jupyter-widgets/controls",
            "_view_module_version": "1.5.0",
            "_view_name": "HTMLView",
            "description": "",
            "description_tooltip": null,
            "layout": "IPY_MODEL_644d4274e46647e18e3f925542eabeae",
            "placeholder": "​",
            "style": "IPY_MODEL_8896ff7417f5484593ef2d0beb23de58",
            "value": " 60/60 [04:40&lt;00:00,  7.20s/it]"
          }
        },
        "11832231ef6d407a97fca531049ae5c4": {
          "model_module": "@jupyter-widgets/base",
          "model_name": "LayoutModel",
          "model_module_version": "1.2.0",
          "state": {
            "_model_module": "@jupyter-widgets/base",
            "_model_module_version": "1.2.0",
            "_model_name": "LayoutModel",
            "_view_count": null,
            "_view_module": "@jupyter-widgets/base",
            "_view_module_version": "1.2.0",
            "_view_name": "LayoutView",
            "align_content": null,
            "align_items": null,
            "align_self": null,
            "border": null,
            "bottom": null,
            "display": null,
            "flex": null,
            "flex_flow": null,
            "grid_area": null,
            "grid_auto_columns": null,
            "grid_auto_flow": null,
            "grid_auto_rows": null,
            "grid_column": null,
            "grid_gap": null,
            "grid_row": null,
            "grid_template_areas": null,
            "grid_template_columns": null,
            "grid_template_rows": null,
            "height": null,
            "justify_content": null,
            "justify_items": null,
            "left": null,
            "margin": null,
            "max_height": null,
            "max_width": null,
            "min_height": null,
            "min_width": null,
            "object_fit": null,
            "object_position": null,
            "order": null,
            "overflow": null,
            "overflow_x": null,
            "overflow_y": null,
            "padding": null,
            "right": null,
            "top": null,
            "visibility": null,
            "width": null
          }
        },
        "88ba72c6022242b98933b410acc9e9e0": {
          "model_module": "@jupyter-widgets/base",
          "model_name": "LayoutModel",
          "model_module_version": "1.2.0",
          "state": {
            "_model_module": "@jupyter-widgets/base",
            "_model_module_version": "1.2.0",
            "_model_name": "LayoutModel",
            "_view_count": null,
            "_view_module": "@jupyter-widgets/base",
            "_view_module_version": "1.2.0",
            "_view_name": "LayoutView",
            "align_content": null,
            "align_items": null,
            "align_self": null,
            "border": null,
            "bottom": null,
            "display": null,
            "flex": null,
            "flex_flow": null,
            "grid_area": null,
            "grid_auto_columns": null,
            "grid_auto_flow": null,
            "grid_auto_rows": null,
            "grid_column": null,
            "grid_gap": null,
            "grid_row": null,
            "grid_template_areas": null,
            "grid_template_columns": null,
            "grid_template_rows": null,
            "height": null,
            "justify_content": null,
            "justify_items": null,
            "left": null,
            "margin": null,
            "max_height": null,
            "max_width": null,
            "min_height": null,
            "min_width": null,
            "object_fit": null,
            "object_position": null,
            "order": null,
            "overflow": null,
            "overflow_x": null,
            "overflow_y": null,
            "padding": null,
            "right": null,
            "top": null,
            "visibility": null,
            "width": null
          }
        },
        "e67c30b8f54f4495ae50854706c1638a": {
          "model_module": "@jupyter-widgets/controls",
          "model_name": "DescriptionStyleModel",
          "model_module_version": "1.5.0",
          "state": {
            "_model_module": "@jupyter-widgets/controls",
            "_model_module_version": "1.5.0",
            "_model_name": "DescriptionStyleModel",
            "_view_count": null,
            "_view_module": "@jupyter-widgets/base",
            "_view_module_version": "1.2.0",
            "_view_name": "StyleView",
            "description_width": ""
          }
        },
        "bc9f0138e88a45cb8c8c3c9c10d89884": {
          "model_module": "@jupyter-widgets/base",
          "model_name": "LayoutModel",
          "model_module_version": "1.2.0",
          "state": {
            "_model_module": "@jupyter-widgets/base",
            "_model_module_version": "1.2.0",
            "_model_name": "LayoutModel",
            "_view_count": null,
            "_view_module": "@jupyter-widgets/base",
            "_view_module_version": "1.2.0",
            "_view_name": "LayoutView",
            "align_content": null,
            "align_items": null,
            "align_self": null,
            "border": null,
            "bottom": null,
            "display": null,
            "flex": null,
            "flex_flow": null,
            "grid_area": null,
            "grid_auto_columns": null,
            "grid_auto_flow": null,
            "grid_auto_rows": null,
            "grid_column": null,
            "grid_gap": null,
            "grid_row": null,
            "grid_template_areas": null,
            "grid_template_columns": null,
            "grid_template_rows": null,
            "height": null,
            "justify_content": null,
            "justify_items": null,
            "left": null,
            "margin": null,
            "max_height": null,
            "max_width": null,
            "min_height": null,
            "min_width": null,
            "object_fit": null,
            "object_position": null,
            "order": null,
            "overflow": null,
            "overflow_x": null,
            "overflow_y": null,
            "padding": null,
            "right": null,
            "top": null,
            "visibility": null,
            "width": null
          }
        },
        "908bc93040924503ab2a57fae1e920c2": {
          "model_module": "@jupyter-widgets/controls",
          "model_name": "ProgressStyleModel",
          "model_module_version": "1.5.0",
          "state": {
            "_model_module": "@jupyter-widgets/controls",
            "_model_module_version": "1.5.0",
            "_model_name": "ProgressStyleModel",
            "_view_count": null,
            "_view_module": "@jupyter-widgets/base",
            "_view_module_version": "1.2.0",
            "_view_name": "StyleView",
            "bar_color": null,
            "description_width": ""
          }
        },
        "644d4274e46647e18e3f925542eabeae": {
          "model_module": "@jupyter-widgets/base",
          "model_name": "LayoutModel",
          "model_module_version": "1.2.0",
          "state": {
            "_model_module": "@jupyter-widgets/base",
            "_model_module_version": "1.2.0",
            "_model_name": "LayoutModel",
            "_view_count": null,
            "_view_module": "@jupyter-widgets/base",
            "_view_module_version": "1.2.0",
            "_view_name": "LayoutView",
            "align_content": null,
            "align_items": null,
            "align_self": null,
            "border": null,
            "bottom": null,
            "display": null,
            "flex": null,
            "flex_flow": null,
            "grid_area": null,
            "grid_auto_columns": null,
            "grid_auto_flow": null,
            "grid_auto_rows": null,
            "grid_column": null,
            "grid_gap": null,
            "grid_row": null,
            "grid_template_areas": null,
            "grid_template_columns": null,
            "grid_template_rows": null,
            "height": null,
            "justify_content": null,
            "justify_items": null,
            "left": null,
            "margin": null,
            "max_height": null,
            "max_width": null,
            "min_height": null,
            "min_width": null,
            "object_fit": null,
            "object_position": null,
            "order": null,
            "overflow": null,
            "overflow_x": null,
            "overflow_y": null,
            "padding": null,
            "right": null,
            "top": null,
            "visibility": null,
            "width": null
          }
        },
        "8896ff7417f5484593ef2d0beb23de58": {
          "model_module": "@jupyter-widgets/controls",
          "model_name": "DescriptionStyleModel",
          "model_module_version": "1.5.0",
          "state": {
            "_model_module": "@jupyter-widgets/controls",
            "_model_module_version": "1.5.0",
            "_model_name": "DescriptionStyleModel",
            "_view_count": null,
            "_view_module": "@jupyter-widgets/base",
            "_view_module_version": "1.2.0",
            "_view_name": "StyleView",
            "description_width": ""
          }
        },
        "50c36304179f4f95a671349641aa2a34": {
          "model_module": "@jupyter-widgets/controls",
          "model_name": "HBoxModel",
          "model_module_version": "1.5.0",
          "state": {
            "_dom_classes": [],
            "_model_module": "@jupyter-widgets/controls",
            "_model_module_version": "1.5.0",
            "_model_name": "HBoxModel",
            "_view_count": null,
            "_view_module": "@jupyter-widgets/controls",
            "_view_module_version": "1.5.0",
            "_view_name": "HBoxView",
            "box_style": "",
            "children": [
              "IPY_MODEL_0e9f5510e4c241e297ce3739536cca49",
              "IPY_MODEL_959b22df91e5426faddd3e06aa366de1",
              "IPY_MODEL_8e47e22f215746d8b8ac5ec7f38d9201"
            ],
            "layout": "IPY_MODEL_131d594130a54cdeb81869865fa4c7fc"
          }
        },
        "0e9f5510e4c241e297ce3739536cca49": {
          "model_module": "@jupyter-widgets/controls",
          "model_name": "HTMLModel",
          "model_module_version": "1.5.0",
          "state": {
            "_dom_classes": [],
            "_model_module": "@jupyter-widgets/controls",
            "_model_module_version": "1.5.0",
            "_model_name": "HTMLModel",
            "_view_count": null,
            "_view_module": "@jupyter-widgets/controls",
            "_view_module_version": "1.5.0",
            "_view_name": "HTMLView",
            "description": "",
            "description_tooltip": null,
            "layout": "IPY_MODEL_8b815ca8de0e4fd3848097a103c54c67",
            "placeholder": "​",
            "style": "IPY_MODEL_168fea8773e44235bebc240197c842c0",
            "value": "100%"
          }
        },
        "959b22df91e5426faddd3e06aa366de1": {
          "model_module": "@jupyter-widgets/controls",
          "model_name": "FloatProgressModel",
          "model_module_version": "1.5.0",
          "state": {
            "_dom_classes": [],
            "_model_module": "@jupyter-widgets/controls",
            "_model_module_version": "1.5.0",
            "_model_name": "FloatProgressModel",
            "_view_count": null,
            "_view_module": "@jupyter-widgets/controls",
            "_view_module_version": "1.5.0",
            "_view_name": "ProgressView",
            "bar_style": "success",
            "description": "",
            "description_tooltip": null,
            "layout": "IPY_MODEL_74a78e8eb583460fa88a764407d50835",
            "max": 60,
            "min": 0,
            "orientation": "horizontal",
            "style": "IPY_MODEL_3fdc8f4f11d3411ab90197480abae20f",
            "value": 60
          }
        },
        "8e47e22f215746d8b8ac5ec7f38d9201": {
          "model_module": "@jupyter-widgets/controls",
          "model_name": "HTMLModel",
          "model_module_version": "1.5.0",
          "state": {
            "_dom_classes": [],
            "_model_module": "@jupyter-widgets/controls",
            "_model_module_version": "1.5.0",
            "_model_name": "HTMLModel",
            "_view_count": null,
            "_view_module": "@jupyter-widgets/controls",
            "_view_module_version": "1.5.0",
            "_view_name": "HTMLView",
            "description": "",
            "description_tooltip": null,
            "layout": "IPY_MODEL_d5b175e4c9d04a0bbaa86766a43bd0d0",
            "placeholder": "​",
            "style": "IPY_MODEL_3380108d8cfd4db7afe87f951c87b245",
            "value": " 60/60 [00:02&lt;00:00, 23.33it/s]"
          }
        },
        "131d594130a54cdeb81869865fa4c7fc": {
          "model_module": "@jupyter-widgets/base",
          "model_name": "LayoutModel",
          "model_module_version": "1.2.0",
          "state": {
            "_model_module": "@jupyter-widgets/base",
            "_model_module_version": "1.2.0",
            "_model_name": "LayoutModel",
            "_view_count": null,
            "_view_module": "@jupyter-widgets/base",
            "_view_module_version": "1.2.0",
            "_view_name": "LayoutView",
            "align_content": null,
            "align_items": null,
            "align_self": null,
            "border": null,
            "bottom": null,
            "display": null,
            "flex": null,
            "flex_flow": null,
            "grid_area": null,
            "grid_auto_columns": null,
            "grid_auto_flow": null,
            "grid_auto_rows": null,
            "grid_column": null,
            "grid_gap": null,
            "grid_row": null,
            "grid_template_areas": null,
            "grid_template_columns": null,
            "grid_template_rows": null,
            "height": null,
            "justify_content": null,
            "justify_items": null,
            "left": null,
            "margin": null,
            "max_height": null,
            "max_width": null,
            "min_height": null,
            "min_width": null,
            "object_fit": null,
            "object_position": null,
            "order": null,
            "overflow": null,
            "overflow_x": null,
            "overflow_y": null,
            "padding": null,
            "right": null,
            "top": null,
            "visibility": null,
            "width": null
          }
        },
        "8b815ca8de0e4fd3848097a103c54c67": {
          "model_module": "@jupyter-widgets/base",
          "model_name": "LayoutModel",
          "model_module_version": "1.2.0",
          "state": {
            "_model_module": "@jupyter-widgets/base",
            "_model_module_version": "1.2.0",
            "_model_name": "LayoutModel",
            "_view_count": null,
            "_view_module": "@jupyter-widgets/base",
            "_view_module_version": "1.2.0",
            "_view_name": "LayoutView",
            "align_content": null,
            "align_items": null,
            "align_self": null,
            "border": null,
            "bottom": null,
            "display": null,
            "flex": null,
            "flex_flow": null,
            "grid_area": null,
            "grid_auto_columns": null,
            "grid_auto_flow": null,
            "grid_auto_rows": null,
            "grid_column": null,
            "grid_gap": null,
            "grid_row": null,
            "grid_template_areas": null,
            "grid_template_columns": null,
            "grid_template_rows": null,
            "height": null,
            "justify_content": null,
            "justify_items": null,
            "left": null,
            "margin": null,
            "max_height": null,
            "max_width": null,
            "min_height": null,
            "min_width": null,
            "object_fit": null,
            "object_position": null,
            "order": null,
            "overflow": null,
            "overflow_x": null,
            "overflow_y": null,
            "padding": null,
            "right": null,
            "top": null,
            "visibility": null,
            "width": null
          }
        },
        "168fea8773e44235bebc240197c842c0": {
          "model_module": "@jupyter-widgets/controls",
          "model_name": "DescriptionStyleModel",
          "model_module_version": "1.5.0",
          "state": {
            "_model_module": "@jupyter-widgets/controls",
            "_model_module_version": "1.5.0",
            "_model_name": "DescriptionStyleModel",
            "_view_count": null,
            "_view_module": "@jupyter-widgets/base",
            "_view_module_version": "1.2.0",
            "_view_name": "StyleView",
            "description_width": ""
          }
        },
        "74a78e8eb583460fa88a764407d50835": {
          "model_module": "@jupyter-widgets/base",
          "model_name": "LayoutModel",
          "model_module_version": "1.2.0",
          "state": {
            "_model_module": "@jupyter-widgets/base",
            "_model_module_version": "1.2.0",
            "_model_name": "LayoutModel",
            "_view_count": null,
            "_view_module": "@jupyter-widgets/base",
            "_view_module_version": "1.2.0",
            "_view_name": "LayoutView",
            "align_content": null,
            "align_items": null,
            "align_self": null,
            "border": null,
            "bottom": null,
            "display": null,
            "flex": null,
            "flex_flow": null,
            "grid_area": null,
            "grid_auto_columns": null,
            "grid_auto_flow": null,
            "grid_auto_rows": null,
            "grid_column": null,
            "grid_gap": null,
            "grid_row": null,
            "grid_template_areas": null,
            "grid_template_columns": null,
            "grid_template_rows": null,
            "height": null,
            "justify_content": null,
            "justify_items": null,
            "left": null,
            "margin": null,
            "max_height": null,
            "max_width": null,
            "min_height": null,
            "min_width": null,
            "object_fit": null,
            "object_position": null,
            "order": null,
            "overflow": null,
            "overflow_x": null,
            "overflow_y": null,
            "padding": null,
            "right": null,
            "top": null,
            "visibility": null,
            "width": null
          }
        },
        "3fdc8f4f11d3411ab90197480abae20f": {
          "model_module": "@jupyter-widgets/controls",
          "model_name": "ProgressStyleModel",
          "model_module_version": "1.5.0",
          "state": {
            "_model_module": "@jupyter-widgets/controls",
            "_model_module_version": "1.5.0",
            "_model_name": "ProgressStyleModel",
            "_view_count": null,
            "_view_module": "@jupyter-widgets/base",
            "_view_module_version": "1.2.0",
            "_view_name": "StyleView",
            "bar_color": null,
            "description_width": ""
          }
        },
        "d5b175e4c9d04a0bbaa86766a43bd0d0": {
          "model_module": "@jupyter-widgets/base",
          "model_name": "LayoutModel",
          "model_module_version": "1.2.0",
          "state": {
            "_model_module": "@jupyter-widgets/base",
            "_model_module_version": "1.2.0",
            "_model_name": "LayoutModel",
            "_view_count": null,
            "_view_module": "@jupyter-widgets/base",
            "_view_module_version": "1.2.0",
            "_view_name": "LayoutView",
            "align_content": null,
            "align_items": null,
            "align_self": null,
            "border": null,
            "bottom": null,
            "display": null,
            "flex": null,
            "flex_flow": null,
            "grid_area": null,
            "grid_auto_columns": null,
            "grid_auto_flow": null,
            "grid_auto_rows": null,
            "grid_column": null,
            "grid_gap": null,
            "grid_row": null,
            "grid_template_areas": null,
            "grid_template_columns": null,
            "grid_template_rows": null,
            "height": null,
            "justify_content": null,
            "justify_items": null,
            "left": null,
            "margin": null,
            "max_height": null,
            "max_width": null,
            "min_height": null,
            "min_width": null,
            "object_fit": null,
            "object_position": null,
            "order": null,
            "overflow": null,
            "overflow_x": null,
            "overflow_y": null,
            "padding": null,
            "right": null,
            "top": null,
            "visibility": null,
            "width": null
          }
        },
        "3380108d8cfd4db7afe87f951c87b245": {
          "model_module": "@jupyter-widgets/controls",
          "model_name": "DescriptionStyleModel",
          "model_module_version": "1.5.0",
          "state": {
            "_model_module": "@jupyter-widgets/controls",
            "_model_module_version": "1.5.0",
            "_model_name": "DescriptionStyleModel",
            "_view_count": null,
            "_view_module": "@jupyter-widgets/base",
            "_view_module_version": "1.2.0",
            "_view_name": "StyleView",
            "description_width": ""
          }
        },
        "40c8efadc25d4e31a74f0edb2048d759": {
          "model_module": "@jupyter-widgets/controls",
          "model_name": "HBoxModel",
          "model_module_version": "1.5.0",
          "state": {
            "_dom_classes": [],
            "_model_module": "@jupyter-widgets/controls",
            "_model_module_version": "1.5.0",
            "_model_name": "HBoxModel",
            "_view_count": null,
            "_view_module": "@jupyter-widgets/controls",
            "_view_module_version": "1.5.0",
            "_view_name": "HBoxView",
            "box_style": "",
            "children": [
              "IPY_MODEL_20cd8937a92241c4a7bfa0899ed2bcc4",
              "IPY_MODEL_fa24fa12b0984bd7a2f0889c1be7427a",
              "IPY_MODEL_a260316011604ec3b5e1adf531b1c7cc"
            ],
            "layout": "IPY_MODEL_fb344167cb174aa8a5e40e2bb542e7c0"
          }
        },
        "20cd8937a92241c4a7bfa0899ed2bcc4": {
          "model_module": "@jupyter-widgets/controls",
          "model_name": "HTMLModel",
          "model_module_version": "1.5.0",
          "state": {
            "_dom_classes": [],
            "_model_module": "@jupyter-widgets/controls",
            "_model_module_version": "1.5.0",
            "_model_name": "HTMLModel",
            "_view_count": null,
            "_view_module": "@jupyter-widgets/controls",
            "_view_module_version": "1.5.0",
            "_view_name": "HTMLView",
            "description": "",
            "description_tooltip": null,
            "layout": "IPY_MODEL_254accc5863c43a29161408e9f710a22",
            "placeholder": "​",
            "style": "IPY_MODEL_6089127b17da4f7bb2f575c08970ac7a",
            "value": "100%"
          }
        },
        "fa24fa12b0984bd7a2f0889c1be7427a": {
          "model_module": "@jupyter-widgets/controls",
          "model_name": "FloatProgressModel",
          "model_module_version": "1.5.0",
          "state": {
            "_dom_classes": [],
            "_model_module": "@jupyter-widgets/controls",
            "_model_module_version": "1.5.0",
            "_model_name": "FloatProgressModel",
            "_view_count": null,
            "_view_module": "@jupyter-widgets/controls",
            "_view_module_version": "1.5.0",
            "_view_name": "ProgressView",
            "bar_style": "success",
            "description": "",
            "description_tooltip": null,
            "layout": "IPY_MODEL_aebefce765ac44aa9547cf58388d776f",
            "max": 29843,
            "min": 0,
            "orientation": "horizontal",
            "style": "IPY_MODEL_374736003384402a83cd6b8cacaa8e13",
            "value": 29843
          }
        },
        "a260316011604ec3b5e1adf531b1c7cc": {
          "model_module": "@jupyter-widgets/controls",
          "model_name": "HTMLModel",
          "model_module_version": "1.5.0",
          "state": {
            "_dom_classes": [],
            "_model_module": "@jupyter-widgets/controls",
            "_model_module_version": "1.5.0",
            "_model_name": "HTMLModel",
            "_view_count": null,
            "_view_module": "@jupyter-widgets/controls",
            "_view_module_version": "1.5.0",
            "_view_name": "HTMLView",
            "description": "",
            "description_tooltip": null,
            "layout": "IPY_MODEL_320c096e2a724f0db86c392ae2a97962",
            "placeholder": "​",
            "style": "IPY_MODEL_928d3f4a6cb544d59b758b2d2366494b",
            "value": " 29843/29843 [12:22&lt;00:00, 40.08it/s]"
          }
        },
        "fb344167cb174aa8a5e40e2bb542e7c0": {
          "model_module": "@jupyter-widgets/base",
          "model_name": "LayoutModel",
          "model_module_version": "1.2.0",
          "state": {
            "_model_module": "@jupyter-widgets/base",
            "_model_module_version": "1.2.0",
            "_model_name": "LayoutModel",
            "_view_count": null,
            "_view_module": "@jupyter-widgets/base",
            "_view_module_version": "1.2.0",
            "_view_name": "LayoutView",
            "align_content": null,
            "align_items": null,
            "align_self": null,
            "border": null,
            "bottom": null,
            "display": null,
            "flex": null,
            "flex_flow": null,
            "grid_area": null,
            "grid_auto_columns": null,
            "grid_auto_flow": null,
            "grid_auto_rows": null,
            "grid_column": null,
            "grid_gap": null,
            "grid_row": null,
            "grid_template_areas": null,
            "grid_template_columns": null,
            "grid_template_rows": null,
            "height": null,
            "justify_content": null,
            "justify_items": null,
            "left": null,
            "margin": null,
            "max_height": null,
            "max_width": null,
            "min_height": null,
            "min_width": null,
            "object_fit": null,
            "object_position": null,
            "order": null,
            "overflow": null,
            "overflow_x": null,
            "overflow_y": null,
            "padding": null,
            "right": null,
            "top": null,
            "visibility": null,
            "width": null
          }
        },
        "254accc5863c43a29161408e9f710a22": {
          "model_module": "@jupyter-widgets/base",
          "model_name": "LayoutModel",
          "model_module_version": "1.2.0",
          "state": {
            "_model_module": "@jupyter-widgets/base",
            "_model_module_version": "1.2.0",
            "_model_name": "LayoutModel",
            "_view_count": null,
            "_view_module": "@jupyter-widgets/base",
            "_view_module_version": "1.2.0",
            "_view_name": "LayoutView",
            "align_content": null,
            "align_items": null,
            "align_self": null,
            "border": null,
            "bottom": null,
            "display": null,
            "flex": null,
            "flex_flow": null,
            "grid_area": null,
            "grid_auto_columns": null,
            "grid_auto_flow": null,
            "grid_auto_rows": null,
            "grid_column": null,
            "grid_gap": null,
            "grid_row": null,
            "grid_template_areas": null,
            "grid_template_columns": null,
            "grid_template_rows": null,
            "height": null,
            "justify_content": null,
            "justify_items": null,
            "left": null,
            "margin": null,
            "max_height": null,
            "max_width": null,
            "min_height": null,
            "min_width": null,
            "object_fit": null,
            "object_position": null,
            "order": null,
            "overflow": null,
            "overflow_x": null,
            "overflow_y": null,
            "padding": null,
            "right": null,
            "top": null,
            "visibility": null,
            "width": null
          }
        },
        "6089127b17da4f7bb2f575c08970ac7a": {
          "model_module": "@jupyter-widgets/controls",
          "model_name": "DescriptionStyleModel",
          "model_module_version": "1.5.0",
          "state": {
            "_model_module": "@jupyter-widgets/controls",
            "_model_module_version": "1.5.0",
            "_model_name": "DescriptionStyleModel",
            "_view_count": null,
            "_view_module": "@jupyter-widgets/base",
            "_view_module_version": "1.2.0",
            "_view_name": "StyleView",
            "description_width": ""
          }
        },
        "aebefce765ac44aa9547cf58388d776f": {
          "model_module": "@jupyter-widgets/base",
          "model_name": "LayoutModel",
          "model_module_version": "1.2.0",
          "state": {
            "_model_module": "@jupyter-widgets/base",
            "_model_module_version": "1.2.0",
            "_model_name": "LayoutModel",
            "_view_count": null,
            "_view_module": "@jupyter-widgets/base",
            "_view_module_version": "1.2.0",
            "_view_name": "LayoutView",
            "align_content": null,
            "align_items": null,
            "align_self": null,
            "border": null,
            "bottom": null,
            "display": null,
            "flex": null,
            "flex_flow": null,
            "grid_area": null,
            "grid_auto_columns": null,
            "grid_auto_flow": null,
            "grid_auto_rows": null,
            "grid_column": null,
            "grid_gap": null,
            "grid_row": null,
            "grid_template_areas": null,
            "grid_template_columns": null,
            "grid_template_rows": null,
            "height": null,
            "justify_content": null,
            "justify_items": null,
            "left": null,
            "margin": null,
            "max_height": null,
            "max_width": null,
            "min_height": null,
            "min_width": null,
            "object_fit": null,
            "object_position": null,
            "order": null,
            "overflow": null,
            "overflow_x": null,
            "overflow_y": null,
            "padding": null,
            "right": null,
            "top": null,
            "visibility": null,
            "width": null
          }
        },
        "374736003384402a83cd6b8cacaa8e13": {
          "model_module": "@jupyter-widgets/controls",
          "model_name": "ProgressStyleModel",
          "model_module_version": "1.5.0",
          "state": {
            "_model_module": "@jupyter-widgets/controls",
            "_model_module_version": "1.5.0",
            "_model_name": "ProgressStyleModel",
            "_view_count": null,
            "_view_module": "@jupyter-widgets/base",
            "_view_module_version": "1.2.0",
            "_view_name": "StyleView",
            "bar_color": null,
            "description_width": ""
          }
        },
        "320c096e2a724f0db86c392ae2a97962": {
          "model_module": "@jupyter-widgets/base",
          "model_name": "LayoutModel",
          "model_module_version": "1.2.0",
          "state": {
            "_model_module": "@jupyter-widgets/base",
            "_model_module_version": "1.2.0",
            "_model_name": "LayoutModel",
            "_view_count": null,
            "_view_module": "@jupyter-widgets/base",
            "_view_module_version": "1.2.0",
            "_view_name": "LayoutView",
            "align_content": null,
            "align_items": null,
            "align_self": null,
            "border": null,
            "bottom": null,
            "display": null,
            "flex": null,
            "flex_flow": null,
            "grid_area": null,
            "grid_auto_columns": null,
            "grid_auto_flow": null,
            "grid_auto_rows": null,
            "grid_column": null,
            "grid_gap": null,
            "grid_row": null,
            "grid_template_areas": null,
            "grid_template_columns": null,
            "grid_template_rows": null,
            "height": null,
            "justify_content": null,
            "justify_items": null,
            "left": null,
            "margin": null,
            "max_height": null,
            "max_width": null,
            "min_height": null,
            "min_width": null,
            "object_fit": null,
            "object_position": null,
            "order": null,
            "overflow": null,
            "overflow_x": null,
            "overflow_y": null,
            "padding": null,
            "right": null,
            "top": null,
            "visibility": null,
            "width": null
          }
        },
        "928d3f4a6cb544d59b758b2d2366494b": {
          "model_module": "@jupyter-widgets/controls",
          "model_name": "DescriptionStyleModel",
          "model_module_version": "1.5.0",
          "state": {
            "_model_module": "@jupyter-widgets/controls",
            "_model_module_version": "1.5.0",
            "_model_name": "DescriptionStyleModel",
            "_view_count": null,
            "_view_module": "@jupyter-widgets/base",
            "_view_module_version": "1.2.0",
            "_view_name": "StyleView",
            "description_width": ""
          }
        }
      }
    }
  },
  "nbformat": 4,
  "nbformat_minor": 5
}