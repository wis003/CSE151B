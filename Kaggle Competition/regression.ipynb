{
 "cells": [
  {
   "cell_type": "markdown",
   "id": "718c38cf",
   "metadata": {
    "id": "718c38cf"
   },
   "source": [
    "## Install the package dependencies before running this notebook"
   ]
  },
  {
   "cell_type": "code",
   "execution_count": 1,
   "id": "16ac7530",
   "metadata": {
    "colab": {
     "base_uri": "https://localhost:8080/",
     "height": 174
    },
    "id": "16ac7530",
    "outputId": "3805705e-dd7d-4702-9e64-744dc7d2ab8a"
   },
   "outputs": [
    {
     "name": "stdout",
     "output_type": "stream",
     "text": [
      "Defaulting to user installation because normal site-packages is not writeable\n",
      "Collecting pickle5\n",
      "  Downloading pickle5-0.0.11.tar.gz (132 kB)\n",
      "\u001b[K     |████████████████████████████████| 132 kB 10.0 MB/s eta 0:00:01\n",
      "\u001b[?25hBuilding wheels for collected packages: pickle5\n",
      "  Building wheel for pickle5 (setup.py) ... \u001b[?25ldone\n",
      "\u001b[?25h  Created wheel for pickle5: filename=pickle5-0.0.11-cp39-cp39-linux_x86_64.whl size=125254 sha256=63eb2bfcafdd2d3f16c8a0541115d80c97214d60c2ed0827f758dce3ae9e5860\n",
      "  Stored in directory: /tmp/xdg-cache/pip/wheels/f2/7a/49/9bef8878949914ecb90c08fc5bf30a05e17f475fe7e08b63a8\n",
      "Successfully built pickle5\n",
      "Installing collected packages: pickle5\n",
      "Successfully installed pickle5-0.0.11\n"
     ]
    },
    {
     "data": {
      "text/plain": [
       "'\\n    number of trajectories in each city\\n    # austin --  train: 43041 test: 6325 \\n    # miami -- train: 55029 test:7971\\n    # pittsburgh -- train: 43544 test: 6361\\n    # dearborn -- train: 24465 test: 3671\\n    # washington-dc -- train: 25744 test: 3829\\n    # palo-alto -- train:  11993 test:1686\\n\\n    trajectories sampled at 10HZ rate, input 5 seconds, output 6 seconds\\n    \\n'"
      ]
     },
     "execution_count": 1,
     "metadata": {},
     "output_type": "execute_result"
    }
   ],
   "source": [
    "!pip3 install pickle5\n",
    "# from google.colab import drive\n",
    "# drive.mount('/content/drive')\n",
    "\n",
    "import torch\n",
    "from torch.utils.data import Dataset, DataLoader\n",
    "import os, os.path \n",
    "import numpy \n",
    "import pickle5 as pickle\n",
    "from glob import glob\n",
    "\n",
    "\"\"\"\n",
    "    number of trajectories in each city\n",
    "    # austin --  train: 43041 test: 6325 \n",
    "    # miami -- train: 55029 test:7971\n",
    "    # pittsburgh -- train: 43544 test: 6361\n",
    "    # dearborn -- train: 24465 test: 3671\n",
    "    # washington-dc -- train: 25744 test: 3829\n",
    "    # palo-alto -- train:  11993 test:1686\n",
    "\n",
    "    trajectories sampled at 10HZ rate, input 5 seconds, output 6 seconds\n",
    "    \n",
    "\"\"\""
   ]
  },
  {
   "cell_type": "markdown",
   "id": "0b472cf2",
   "metadata": {
    "id": "0b472cf2"
   },
   "source": [
    "## Create a Torch.Dataset class for the training dataset"
   ]
  },
  {
   "cell_type": "code",
   "execution_count": 2,
   "id": "091abbb7",
   "metadata": {
    "id": "091abbb7"
   },
   "outputs": [],
   "source": [
    "from glob import glob\n",
    "import numpy as np\n",
    "\n",
    "ROOT_PATH = \"./Data/\"\n",
    "\n",
    "cities = [\"austin\", \"miami\", \"pittsburgh\", \"dearborn\", \"washington-dc\", \"palo-alto\"]\n",
    "splits = [\"train\", \"test\"]\n",
    "\n",
    "def get_city_trajectories(city=\"palo-alto\", split=\"train\", normalized=False):\n",
    "\n",
    "    outputs = None\n",
    "    \n",
    "    if split==\"train\":\n",
    "        f_in = ROOT_PATH + split + \"/\" + city + \"_inputs\"\n",
    "        inputs = np.asarray(pickle.load(open(f_in, \"rb\")))\n",
    "#         n = len(inputs)\n",
    "#         inputs = np.asarray(inputs)[:int(n * 0.8)]\n",
    "        \n",
    "        f_out = ROOT_PATH + split + \"/\" + city + \"_outputs\"\n",
    "        outputs = np.asarray(pickle.load(open(f_out, \"rb\")))\n",
    "#         outputs = np.asarray(outputs)[:int(n * 0.8)]\n",
    "        \n",
    "    elif split == 'val':\n",
    "        f_in = ROOT_PATH + 'train' + \"/\" + city + \"_inputs\"\n",
    "        inputs = pickle.load(open(f_in, \"rb\"))\n",
    "        n = len(inputs)\n",
    "        inputs = np.asarray(inputs)[int(n * 0.8):]\n",
    "        \n",
    "        f_out = ROOT_PATH + 'train' + \"/\" + city + \"_outputs\"\n",
    "        outputs = pickle.load(open(f_out, \"rb\"))\n",
    "        outputs = np.asarray(outputs)[int(n * 0.8):]\n",
    "    \n",
    "    else:\n",
    "        f_in = ROOT_PATH + split + \"/\" + city + \"_inputs\"\n",
    "        inputs = pickle.load(open(f_in, \"rb\"))\n",
    "        n = len(inputs)\n",
    "        inputs = np.asarray(inputs)\n",
    "\n",
    "    return inputs, outputs\n",
    "\n",
    "class ArgoverseDataset(Dataset):\n",
    "    \"\"\"Dataset class for Argoverse\"\"\"\n",
    "    def __init__(self, city: str, split:str, transform=None):\n",
    "        super(ArgoverseDataset, self).__init__()\n",
    "        self.transform = transform\n",
    "\n",
    "        self.inputs, self.outputs = get_city_trajectories(city=city, split=split, normalized=False)\n",
    "\n",
    "    def __len__(self):\n",
    "        return len(self.inputs)\n",
    "\n",
    "    def __getitem__(self, idx):\n",
    "\n",
    "        data = (self.inputs[idx], self.outputs[idx])\n",
    "            \n",
    "        if self.transform:\n",
    "            data = self.transform(data)\n",
    "\n",
    "        return data"
   ]
  },
  {
   "cell_type": "markdown",
   "id": "058453cc",
   "metadata": {
    "id": "058453cc"
   },
   "source": [
    "## Create dataset for training and testing"
   ]
  },
  {
   "cell_type": "code",
   "execution_count": 3,
   "id": "ee5b7ae0",
   "metadata": {
    "colab": {
     "base_uri": "https://localhost:8080/"
    },
    "id": "ee5b7ae0",
    "outputId": "f937ff09-a53f-4106-f4d7-ad3c0596738f"
   },
   "outputs": [
    {
     "name": "stdout",
     "output_type": "stream",
     "text": [
      "Total training data:\n",
      "(203816, 50, 2)\n",
      "(203816, 60, 2)\n",
      "(203816, 110)\n",
      "(203816, 110)\n",
      "Total testing data:\n",
      "(29843, 50, 2)\n",
      "(29843, 50)\n",
      "(29843, 50)\n"
     ]
    }
   ],
   "source": [
    "train_dataset = ArgoverseDataset(city = 'austin', split = 'train')\n",
    "train_input = train_dataset.inputs\n",
    "train_output = train_dataset.outputs\n",
    "for city in cities:\n",
    "    train_dataset = ArgoverseDataset(city = city, split = 'train')\n",
    "    \n",
    "    if city != 'austin':\n",
    "        train_input = np.concatenate((train_input, train_dataset.inputs))\n",
    "        train_output = np.concatenate((train_output, train_dataset.outputs))\n",
    "\n",
    "# expect (203816, 50, 2), (203816, 60, 2)\n",
    "print(\"Total training data:\")\n",
    "print(train_input.shape)\n",
    "print(train_output.shape)\n",
    "\n",
    "total_train = np.hstack((train_input, train_output))\n",
    "train_X = total_train[:,:,0]\n",
    "train_Y = total_train[:,:,1]\n",
    "print(train_X.shape)\n",
    "print(train_Y.shape)\n",
    "\n",
    "test_dataset = ArgoverseDataset(city = 'austin', split = 'test')\n",
    "test_input = test_dataset.inputs\n",
    "for city in cities:\n",
    "    test_dataset = ArgoverseDataset(city = city, split = 'test')\n",
    "    \n",
    "    if city != 'austin':\n",
    "        test_input = np.concatenate((test_input, test_dataset.inputs))\n",
    "\n",
    "# expect (29843, 50, 2)\n",
    "print(\"Total testing data:\")\n",
    "print(test_input.shape)\n",
    "\n",
    "test_X = test_input[:,:,0]\n",
    "test_Y = test_input[:,:,1]\n",
    "print(test_X.shape)\n",
    "print(test_Y.shape)"
   ]
  },
  {
   "cell_type": "markdown",
   "id": "CqNAAf-xNBpi",
   "metadata": {
    "id": "CqNAAf-xNBpi"
   },
   "source": [
    "## Training"
   ]
  },
  {
   "cell_type": "code",
   "execution_count": 4,
   "id": "Jd1v9K7lovjG",
   "metadata": {
    "colab": {
     "base_uri": "https://localhost:8080/",
     "height": 49,
     "referenced_widgets": [
      "cac0a5a7c5d24e90be74a525c3c584cb",
      "8a026b8754454df6a5e06259f5aebafb",
      "399122dff42e4f499bf24c4525d08791",
      "ffcdd384389f4e2dbbfa144f33025d9d",
      "57301f03de4443ec9651ed65c3e0a09d",
      "4a0b4e6876b34104bb729733192ba500",
      "a8eab5cf8e794068bc3637e5a0998bde",
      "59f5ae0d865b4abcb1f9dfcb31580abb",
      "53fc236ad98e4d5f9feaff51ed625704",
      "c05903fd216f4b57b9f30427b6d85522",
      "d101925e2dbe4d328fcd4866e70e4604"
     ]
    },
    "id": "Jd1v9K7lovjG",
    "outputId": "466df553-473f-4811-a7a6-76a2de49d139"
   },
   "outputs": [
    {
     "data": {
      "application/vnd.jupyter.widget-view+json": {
       "model_id": "ad735024162448dbbc6898a6fdae53a7",
       "version_major": 2,
       "version_minor": 0
      },
      "text/plain": [
       "  0%|          | 0/60 [00:00<?, ?it/s]"
      ]
     },
     "metadata": {},
     "output_type": "display_data"
    }
   ],
   "source": [
    "from sklearn.linear_model import LinearRegression\n",
    "from sklearn.ensemble import *\n",
    "from tqdm.notebook import tqdm\n",
    "\n",
    "input_X = train_X[:, :50]\n",
    "output_X = train_X[:, 50:]\n",
    "input_Y = train_Y[:, :50]\n",
    "output_Y = train_Y[:, 50:]\n",
    "\n",
    "models = [None] * 120 # order is x_i, y_i for i < 60\n",
    "\n",
    "for i in tqdm(range(60)):\n",
    "    models[2*i] = AdaBoostRegressor(n_estimators=10).fit(input_X, output_X[:, i])\n",
    "    input_X = np.insert(input_X, 50 + i, output_X[:, i], axis=1)\n",
    "\n",
    "    models[2*i + 1] = AdaBoostRegressor(n_estimators=10).fit(input_Y, output_Y[:, i])\n",
    "    input_Y = np.insert(input_Y, 50 + i, output_Y[:, i], axis=1)"
   ]
  },
  {
   "cell_type": "markdown",
   "id": "8303614f",
   "metadata": {
    "id": "8303614f"
   },
   "source": [
    "## Testing"
   ]
  },
  {
   "cell_type": "code",
   "execution_count": 5,
   "id": "14aafbd4",
   "metadata": {
    "id": "14aafbd4"
   },
   "outputs": [
    {
     "data": {
      "application/vnd.jupyter.widget-view+json": {
       "model_id": "6f7edfcede604172957b67309426c9cf",
       "version_major": 2,
       "version_minor": 0
      },
      "text/plain": [
       "  0%|          | 0/60 [00:00<?, ?it/s]"
      ]
     },
     "metadata": {},
     "output_type": "display_data"
    },
    {
     "name": "stdout",
     "output_type": "stream",
     "text": [
      "(29843, 110)\n",
      "(29843, 110)\n"
     ]
    }
   ],
   "source": [
    "for i in tqdm(range(60)):\n",
    "    pred_X = models[2*i].predict(test_X)\n",
    "    pred_Y = models[2*i + 1].predict(test_Y)\n",
    "    test_X = np.insert(test_X, 50 + i, pred_X, axis=1)\n",
    "    test_Y = np.insert(test_Y, 50 + i, pred_Y, axis=1)\n",
    "\n",
    "print(test_X.shape)\n",
    "print(test_Y.shape)"
   ]
  },
  {
   "cell_type": "markdown",
   "id": "SLeaP2xuXAdo",
   "metadata": {
    "id": "SLeaP2xuXAdo"
   },
   "source": [
    "## Generate Submission"
   ]
  },
  {
   "cell_type": "code",
   "execution_count": 6,
   "id": "CEA8GDo-W_7P",
   "metadata": {
    "id": "CEA8GDo-W_7P"
   },
   "outputs": [
    {
     "data": {
      "application/vnd.jupyter.widget-view+json": {
       "model_id": "107013d0ed6b4451964b39ec30573ac3",
       "version_major": 2,
       "version_minor": 0
      },
      "text/plain": [
       "  0%|          | 0/29843 [00:00<?, ?it/s]"
      ]
     },
     "metadata": {},
     "output_type": "display_data"
    }
   ],
   "source": [
    "import pandas as pd\n",
    "\n",
    "df = pd.read_csv(ROOT_PATH + 'sample_submission.csv')\n",
    "int_col = df.select_dtypes(include=['int'])\n",
    "for col in int_col.columns.values:\n",
    "    df[col] = df[col].astype('float32')\n",
    "\n",
    "for i in tqdm(range(len(test_X))):\n",
    "    df.iloc[i, 1:121] = np.ravel(np.vstack((test_X[i, 50:], test_Y[i, 50:])).T)\n",
    "\n",
    "\n",
    "df.to_csv(ROOT_PATH + 'submission.csv', index=False)"
   ]
  },
  {
   "cell_type": "markdown",
   "id": "6f80b5e4",
   "metadata": {
    "id": "6f80b5e4"
   },
   "source": [
    "## Sample a batch of data and visualize "
   ]
  },
  {
   "cell_type": "code",
   "execution_count": 7,
   "id": "c6507c9a",
   "metadata": {
    "id": "c6507c9a"
   },
   "outputs": [],
   "source": [
    "# import matplotlib.pyplot as plt\n",
    "\n",
    "# check = [39, 984, 3075, 6132]\n",
    "\n",
    "# check_dataset = ArgoverseDataset(city = 'austin', split = 'train')\n",
    "# for i in range(len(check_dataset.inputs)):\n",
    "#     if i in check:\n",
    "#         data = torch.from_numpy(check_dataset.inputs[i]).to(device)\n",
    "#         out = check_dataset.outputs[i]\n",
    "#         preds = pred(data).cpu().detach().numpy()\n",
    "        \n",
    "#         loss = ((preds - out) ** 2).sum()\n",
    "#         print(i)\n",
    "#         print(loss)\n",
    "#         print(preds.shape)\n",
    "#         print(out.shape)\n",
    "        \n",
    "#         plt.figure(figsize=(4, 4))\n",
    "#         plt.scatter(preds[0, :, 0], preds[0, :, 1], label='prediction')\n",
    "#         plt.scatter(out[:, 0], out[:, 1], label='gt_out')\n",
    "#         plt.scatter(check_dataset.inputs[i][:, 0], check_dataset.inputs[i][:, 1], label='gt_in')\n",
    "#         plt.xlabel('X coordinates')\n",
    "#         plt.ylabel('Y coordinates')\n",
    "#         plt.title(i, fontweight =\"bold\")\n",
    "#         plt.legend()\n",
    "#         plt.show()"
   ]
  }
 ],
 "metadata": {
  "colab": {
   "name": "regression.ipynb",
   "provenance": []
  },
  "kernelspec": {
   "display_name": "Python 3 (ipykernel)",
   "language": "python",
   "name": "python3"
  },
  "language_info": {
   "codemirror_mode": {
    "name": "ipython",
    "version": 3
   },
   "file_extension": ".py",
   "mimetype": "text/x-python",
   "name": "python",
   "nbconvert_exporter": "python",
   "pygments_lexer": "ipython3",
   "version": "3.9.5"
  },
  "widgets": {
   "application/vnd.jupyter.widget-state+json": {
    "399122dff42e4f499bf24c4525d08791": {
     "model_module": "@jupyter-widgets/controls",
     "model_module_version": "1.5.0",
     "model_name": "FloatProgressModel",
     "state": {
      "_dom_classes": [],
      "_model_module": "@jupyter-widgets/controls",
      "_model_module_version": "1.5.0",
      "_model_name": "FloatProgressModel",
      "_view_count": null,
      "_view_module": "@jupyter-widgets/controls",
      "_view_module_version": "1.5.0",
      "_view_name": "ProgressView",
      "bar_style": "",
      "description": "",
      "description_tooltip": null,
      "layout": "IPY_MODEL_59f5ae0d865b4abcb1f9dfcb31580abb",
      "max": 60,
      "min": 0,
      "orientation": "horizontal",
      "style": "IPY_MODEL_53fc236ad98e4d5f9feaff51ed625704",
      "value": 3
     }
    },
    "4a0b4e6876b34104bb729733192ba500": {
     "model_module": "@jupyter-widgets/base",
     "model_module_version": "1.2.0",
     "model_name": "LayoutModel",
     "state": {
      "_model_module": "@jupyter-widgets/base",
      "_model_module_version": "1.2.0",
      "_model_name": "LayoutModel",
      "_view_count": null,
      "_view_module": "@jupyter-widgets/base",
      "_view_module_version": "1.2.0",
      "_view_name": "LayoutView",
      "align_content": null,
      "align_items": null,
      "align_self": null,
      "border": null,
      "bottom": null,
      "display": null,
      "flex": null,
      "flex_flow": null,
      "grid_area": null,
      "grid_auto_columns": null,
      "grid_auto_flow": null,
      "grid_auto_rows": null,
      "grid_column": null,
      "grid_gap": null,
      "grid_row": null,
      "grid_template_areas": null,
      "grid_template_columns": null,
      "grid_template_rows": null,
      "height": null,
      "justify_content": null,
      "justify_items": null,
      "left": null,
      "margin": null,
      "max_height": null,
      "max_width": null,
      "min_height": null,
      "min_width": null,
      "object_fit": null,
      "object_position": null,
      "order": null,
      "overflow": null,
      "overflow_x": null,
      "overflow_y": null,
      "padding": null,
      "right": null,
      "top": null,
      "visibility": null,
      "width": null
     }
    },
    "53fc236ad98e4d5f9feaff51ed625704": {
     "model_module": "@jupyter-widgets/controls",
     "model_module_version": "1.5.0",
     "model_name": "ProgressStyleModel",
     "state": {
      "_model_module": "@jupyter-widgets/controls",
      "_model_module_version": "1.5.0",
      "_model_name": "ProgressStyleModel",
      "_view_count": null,
      "_view_module": "@jupyter-widgets/base",
      "_view_module_version": "1.2.0",
      "_view_name": "StyleView",
      "bar_color": null,
      "description_width": ""
     }
    },
    "57301f03de4443ec9651ed65c3e0a09d": {
     "model_module": "@jupyter-widgets/base",
     "model_module_version": "1.2.0",
     "model_name": "LayoutModel",
     "state": {
      "_model_module": "@jupyter-widgets/base",
      "_model_module_version": "1.2.0",
      "_model_name": "LayoutModel",
      "_view_count": null,
      "_view_module": "@jupyter-widgets/base",
      "_view_module_version": "1.2.0",
      "_view_name": "LayoutView",
      "align_content": null,
      "align_items": null,
      "align_self": null,
      "border": null,
      "bottom": null,
      "display": null,
      "flex": null,
      "flex_flow": null,
      "grid_area": null,
      "grid_auto_columns": null,
      "grid_auto_flow": null,
      "grid_auto_rows": null,
      "grid_column": null,
      "grid_gap": null,
      "grid_row": null,
      "grid_template_areas": null,
      "grid_template_columns": null,
      "grid_template_rows": null,
      "height": null,
      "justify_content": null,
      "justify_items": null,
      "left": null,
      "margin": null,
      "max_height": null,
      "max_width": null,
      "min_height": null,
      "min_width": null,
      "object_fit": null,
      "object_position": null,
      "order": null,
      "overflow": null,
      "overflow_x": null,
      "overflow_y": null,
      "padding": null,
      "right": null,
      "top": null,
      "visibility": null,
      "width": null
     }
    },
    "59f5ae0d865b4abcb1f9dfcb31580abb": {
     "model_module": "@jupyter-widgets/base",
     "model_module_version": "1.2.0",
     "model_name": "LayoutModel",
     "state": {
      "_model_module": "@jupyter-widgets/base",
      "_model_module_version": "1.2.0",
      "_model_name": "LayoutModel",
      "_view_count": null,
      "_view_module": "@jupyter-widgets/base",
      "_view_module_version": "1.2.0",
      "_view_name": "LayoutView",
      "align_content": null,
      "align_items": null,
      "align_self": null,
      "border": null,
      "bottom": null,
      "display": null,
      "flex": null,
      "flex_flow": null,
      "grid_area": null,
      "grid_auto_columns": null,
      "grid_auto_flow": null,
      "grid_auto_rows": null,
      "grid_column": null,
      "grid_gap": null,
      "grid_row": null,
      "grid_template_areas": null,
      "grid_template_columns": null,
      "grid_template_rows": null,
      "height": null,
      "justify_content": null,
      "justify_items": null,
      "left": null,
      "margin": null,
      "max_height": null,
      "max_width": null,
      "min_height": null,
      "min_width": null,
      "object_fit": null,
      "object_position": null,
      "order": null,
      "overflow": null,
      "overflow_x": null,
      "overflow_y": null,
      "padding": null,
      "right": null,
      "top": null,
      "visibility": null,
      "width": null
     }
    },
    "8a026b8754454df6a5e06259f5aebafb": {
     "model_module": "@jupyter-widgets/controls",
     "model_module_version": "1.5.0",
     "model_name": "HTMLModel",
     "state": {
      "_dom_classes": [],
      "_model_module": "@jupyter-widgets/controls",
      "_model_module_version": "1.5.0",
      "_model_name": "HTMLModel",
      "_view_count": null,
      "_view_module": "@jupyter-widgets/controls",
      "_view_module_version": "1.5.0",
      "_view_name": "HTMLView",
      "description": "",
      "description_tooltip": null,
      "layout": "IPY_MODEL_4a0b4e6876b34104bb729733192ba500",
      "placeholder": "​",
      "style": "IPY_MODEL_a8eab5cf8e794068bc3637e5a0998bde",
      "value": "  5%"
     }
    },
    "a8eab5cf8e794068bc3637e5a0998bde": {
     "model_module": "@jupyter-widgets/controls",
     "model_module_version": "1.5.0",
     "model_name": "DescriptionStyleModel",
     "state": {
      "_model_module": "@jupyter-widgets/controls",
      "_model_module_version": "1.5.0",
      "_model_name": "DescriptionStyleModel",
      "_view_count": null,
      "_view_module": "@jupyter-widgets/base",
      "_view_module_version": "1.2.0",
      "_view_name": "StyleView",
      "description_width": ""
     }
    },
    "c05903fd216f4b57b9f30427b6d85522": {
     "model_module": "@jupyter-widgets/base",
     "model_module_version": "1.2.0",
     "model_name": "LayoutModel",
     "state": {
      "_model_module": "@jupyter-widgets/base",
      "_model_module_version": "1.2.0",
      "_model_name": "LayoutModel",
      "_view_count": null,
      "_view_module": "@jupyter-widgets/base",
      "_view_module_version": "1.2.0",
      "_view_name": "LayoutView",
      "align_content": null,
      "align_items": null,
      "align_self": null,
      "border": null,
      "bottom": null,
      "display": null,
      "flex": null,
      "flex_flow": null,
      "grid_area": null,
      "grid_auto_columns": null,
      "grid_auto_flow": null,
      "grid_auto_rows": null,
      "grid_column": null,
      "grid_gap": null,
      "grid_row": null,
      "grid_template_areas": null,
      "grid_template_columns": null,
      "grid_template_rows": null,
      "height": null,
      "justify_content": null,
      "justify_items": null,
      "left": null,
      "margin": null,
      "max_height": null,
      "max_width": null,
      "min_height": null,
      "min_width": null,
      "object_fit": null,
      "object_position": null,
      "order": null,
      "overflow": null,
      "overflow_x": null,
      "overflow_y": null,
      "padding": null,
      "right": null,
      "top": null,
      "visibility": null,
      "width": null
     }
    },
    "cac0a5a7c5d24e90be74a525c3c584cb": {
     "model_module": "@jupyter-widgets/controls",
     "model_module_version": "1.5.0",
     "model_name": "HBoxModel",
     "state": {
      "_dom_classes": [],
      "_model_module": "@jupyter-widgets/controls",
      "_model_module_version": "1.5.0",
      "_model_name": "HBoxModel",
      "_view_count": null,
      "_view_module": "@jupyter-widgets/controls",
      "_view_module_version": "1.5.0",
      "_view_name": "HBoxView",
      "box_style": "",
      "children": [
       "IPY_MODEL_8a026b8754454df6a5e06259f5aebafb",
       "IPY_MODEL_399122dff42e4f499bf24c4525d08791",
       "IPY_MODEL_ffcdd384389f4e2dbbfa144f33025d9d"
      ],
      "layout": "IPY_MODEL_57301f03de4443ec9651ed65c3e0a09d"
     }
    },
    "d101925e2dbe4d328fcd4866e70e4604": {
     "model_module": "@jupyter-widgets/controls",
     "model_module_version": "1.5.0",
     "model_name": "DescriptionStyleModel",
     "state": {
      "_model_module": "@jupyter-widgets/controls",
      "_model_module_version": "1.5.0",
      "_model_name": "DescriptionStyleModel",
      "_view_count": null,
      "_view_module": "@jupyter-widgets/base",
      "_view_module_version": "1.2.0",
      "_view_name": "StyleView",
      "description_width": ""
     }
    },
    "ffcdd384389f4e2dbbfa144f33025d9d": {
     "model_module": "@jupyter-widgets/controls",
     "model_module_version": "1.5.0",
     "model_name": "HTMLModel",
     "state": {
      "_dom_classes": [],
      "_model_module": "@jupyter-widgets/controls",
      "_model_module_version": "1.5.0",
      "_model_name": "HTMLModel",
      "_view_count": null,
      "_view_module": "@jupyter-widgets/controls",
      "_view_module_version": "1.5.0",
      "_view_name": "HTMLView",
      "description": "",
      "description_tooltip": null,
      "layout": "IPY_MODEL_c05903fd216f4b57b9f30427b6d85522",
      "placeholder": "​",
      "style": "IPY_MODEL_d101925e2dbe4d328fcd4866e70e4604",
      "value": " 3/60 [01:39&lt;30:26, 32.05s/it]"
     }
    }
   }
  }
 },
 "nbformat": 4,
 "nbformat_minor": 5
}
