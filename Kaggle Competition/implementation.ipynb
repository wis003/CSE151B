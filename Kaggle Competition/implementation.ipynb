{
 "cells": [
  {
   "cell_type": "markdown",
   "id": "718c38cf",
   "metadata": {},
   "source": [
    "## Install the package dependencies before running this notebook"
   ]
  },
  {
   "cell_type": "code",
   "execution_count": 1,
   "id": "16ac7530",
   "metadata": {},
   "outputs": [
    {
     "data": {
      "text/plain": [
       "'\\n    number of trajectories in each city\\n    # austin --  train: 43041 test: 6325 \\n    # miami -- train: 55029 test:7971\\n    # pittsburgh -- train: 43544 test: 6361\\n    # dearborn -- train: 24465 test: 3671\\n    # washington-dc -- train: 25744 test: 3829\\n    # palo-alto -- train:  11993 test:1686\\n\\n    trajectories sampled at 10HZ rate, input 5 seconds, output 6 seconds\\n    \\n'"
      ]
     },
     "execution_count": 1,
     "metadata": {},
     "output_type": "execute_result"
    }
   ],
   "source": [
    "import torch\n",
    "from torch.utils.data import Dataset, DataLoader\n",
    "import os, os.path \n",
    "import numpy \n",
    "import pickle\n",
    "from glob import glob\n",
    "\n",
    "\"\"\"\n",
    "    number of trajectories in each city\n",
    "    # austin --  train: 43041 test: 6325 \n",
    "    # miami -- train: 55029 test:7971\n",
    "    # pittsburgh -- train: 43544 test: 6361\n",
    "    # dearborn -- train: 24465 test: 3671\n",
    "    # washington-dc -- train: 25744 test: 3829\n",
    "    # palo-alto -- train:  11993 test:1686\n",
    "\n",
    "    trajectories sampled at 10HZ rate, input 5 seconds, output 6 seconds\n",
    "    \n",
    "\"\"\""
   ]
  },
  {
   "cell_type": "markdown",
   "id": "0b472cf2",
   "metadata": {},
   "source": [
    "## Create a Torch.Dataset class for the training dataset"
   ]
  },
  {
   "cell_type": "code",
   "execution_count": 2,
   "id": "091abbb7",
   "metadata": {},
   "outputs": [],
   "source": [
    "from glob import glob\n",
    "import pickle\n",
    "import numpy as np\n",
    "\n",
    "ROOT_PATH = \"./Data/\"\n",
    "\n",
    "cities = [\"austin\", \"miami\", \"pittsburgh\", \"dearborn\", \"washington-dc\", \"palo-alto\"]\n",
    "splits = [\"train\", \"test\"]\n",
    "\n",
    "def get_city_trajectories(city=\"palo-alto\", split=\"train\", normalized=False):\n",
    "\n",
    "    outputs = None\n",
    "    \n",
    "    if split==\"train\":\n",
    "        f_in = ROOT_PATH + split + \"/\" + city + \"_inputs\"\n",
    "        inputs = np.asarray(pickle.load(open(f_in, \"rb\")))\n",
    "#         n = len(inputs)\n",
    "#         inputs = np.asarray(inputs)[:int(n * 0.8)]\n",
    "        \n",
    "        f_out = ROOT_PATH + split + \"/\" + city + \"_outputs\"\n",
    "        outputs = np.asarray(pickle.load(open(f_out, \"rb\")))\n",
    "#         outputs = np.asarray(outputs)[:int(n * 0.8)]\n",
    "        \n",
    "    elif split == 'val':\n",
    "        f_in = ROOT_PATH + 'train' + \"/\" + city + \"_inputs\"\n",
    "        inputs = pickle.load(open(f_in, \"rb\"))\n",
    "        n = len(inputs)\n",
    "        inputs = np.asarray(inputs)[int(n * 0.8):]\n",
    "        \n",
    "        f_out = ROOT_PATH + 'train' + \"/\" + city + \"_outputs\"\n",
    "        outputs = pickle.load(open(f_out, \"rb\"))\n",
    "        outputs = np.asarray(outputs)[int(n * 0.8):]\n",
    "    \n",
    "    else:\n",
    "        f_in = ROOT_PATH + split + \"/\" + city + \"_inputs\"\n",
    "        inputs = pickle.load(open(f_in, \"rb\"))\n",
    "        n = len(inputs)\n",
    "        inputs = np.asarray(inputs)\n",
    "\n",
    "    return inputs, outputs\n",
    "\n",
    "class ArgoverseDataset(Dataset):\n",
    "    \"\"\"Dataset class for Argoverse\"\"\"\n",
    "    def __init__(self, city: str, split:str, transform=None):\n",
    "        super(ArgoverseDataset, self).__init__()\n",
    "        self.transform = transform\n",
    "\n",
    "        self.inputs, self.outputs = get_city_trajectories(city=city, split=split, normalized=False)\n",
    "\n",
    "    def __len__(self):\n",
    "        return len(self.inputs)\n",
    "\n",
    "    def __getitem__(self, idx):\n",
    "\n",
    "        data = (self.inputs[idx], self.outputs[idx])\n",
    "            \n",
    "        if self.transform:\n",
    "            data = self.transform(data)\n",
    "\n",
    "        return data"
   ]
  },
  {
   "cell_type": "markdown",
   "id": "058453cc",
   "metadata": {},
   "source": [
    "## Create a DataLoader class for training"
   ]
  },
  {
   "cell_type": "code",
   "execution_count": 3,
   "id": "ee5b7ae0",
   "metadata": {},
   "outputs": [],
   "source": [
    "from torch import nn, optim\n",
    "\n",
    "device = torch.device('cuda' if torch.cuda.is_available() else 'cpu')\n",
    "\n",
    "# class Pred(nn.Module):\n",
    "\n",
    "#     def __init__(self):\n",
    "#         super().__init__()\n",
    "        \n",
    "#         self.encoder = nn.Sequential(\n",
    "#             nn.Linear(100, 64),\n",
    "#             nn.ReLU(),\n",
    "#             nn.Linear(64, 64),\n",
    "#             nn.ReLU(),\n",
    "#             nn.Linear(64, 32),\n",
    "#             nn.ReLU(),\n",
    "#             nn.Linear(32, 32)\n",
    "#         )\n",
    "        \n",
    "#         self.decoder = nn.Sequential(\n",
    "#             nn.Linear(32, 64),\n",
    "#             nn.ReLU(),\n",
    "#             nn.Linear(64, 64),\n",
    "#             nn.ReLU(),\n",
    "#             nn.Linear(64, 120),\n",
    "#             nn.ReLU(),\n",
    "#             nn.Linear(120, 120)\n",
    "#         )\n",
    "        \n",
    "#     def forward(self, x):\n",
    "#         x = x.reshape(-1, 100).float()\n",
    "#         x = self.encoder(x)\n",
    "#         x = self.decoder(x)\n",
    "#         x = x.reshape(-1, 60, 2)\n",
    "#         return x"
   ]
  },
  {
   "cell_type": "code",
   "execution_count": 4,
   "id": "2978f6b0",
   "metadata": {},
   "outputs": [],
   "source": [
    "# device = torch.device('cuda' if torch.cuda.is_available() else 'cpu')\n",
    "# pred = Pred()\n",
    "# pred.to(device)\n",
    "# opt = optim.Adam(pred.parameters(), lr=1e-3)"
   ]
  },
  {
   "cell_type": "markdown",
   "id": "e117a309",
   "metadata": {},
   "source": [
    "## Training"
   ]
  },
  {
   "cell_type": "code",
   "execution_count": 6,
   "id": "e4725237",
   "metadata": {},
   "outputs": [
    {
     "name": "stdout",
     "output_type": "stream",
     "text": [
      "austin\n",
      "Time elapsed: 7.593198478221893\n",
      "epoch 0 loss: 196982018.46488315\n",
      "Time elapsed: 15.17181428273519\n",
      "epoch 1 loss: 181544203.95763022\n",
      "Time elapsed: 22.921051637331644\n",
      "epoch 2 loss: 181507400.42740014\n",
      "Time elapsed: 30.69908484617869\n",
      "epoch 3 loss: 181507017.24751797\n",
      "Time elapsed: 38.16384460528692\n",
      "epoch 4 loss: 181507003.49082237\n",
      "miami\n",
      "Time elapsed: 48.55288451910019\n",
      "epoch 0 loss: 1026971579.2091588\n",
      "Time elapsed: 58.03132556676864\n",
      "epoch 1 loss: 933328099.5034621\n",
      "Time elapsed: 68.36286822954814\n",
      "epoch 2 loss: 930720642.8687719\n",
      "Time elapsed: 78.33688868284226\n",
      "epoch 3 loss: 930577605.0854676\n",
      "Time elapsed: 87.99915175040563\n",
      "epoch 4 loss: 930565862.5793945\n",
      "pittsburgh\n",
      "Time elapsed: 95.661305920283\n",
      "epoch 0 loss: 249492148.59736192\n",
      "Time elapsed: 103.45517633358638\n",
      "epoch 1 loss: 225963374.64082474\n",
      "Time elapsed: 111.3959932923317\n",
      "epoch 2 loss: 225698929.6957579\n",
      "Time elapsed: 119.24318982362747\n",
      "epoch 3 loss: 225696615.12162554\n",
      "Time elapsed: 126.896784055233\n",
      "epoch 4 loss: 225696543.21182418\n",
      "dearborn\n",
      "Time elapsed: 131.36553070147832\n",
      "epoch 0 loss: 1923373592.1946504\n",
      "Time elapsed: 135.68254281282424\n",
      "epoch 1 loss: 1507630860.7828515\n",
      "Time elapsed: 139.9931365609169\n",
      "epoch 2 loss: 1329436127.805364\n",
      "Time elapsed: 144.43818285067877\n",
      "epoch 3 loss: 1261203001.5533829\n",
      "Time elapsed: 148.8357931693395\n",
      "epoch 4 loss: 1235574052.951275\n",
      "washington-dc\n",
      "Time elapsed: 153.5819742043813\n",
      "epoch 0 loss: 540988582.1681263\n",
      "Time elapsed: 158.25107935667037\n",
      "epoch 1 loss: 289921923.79534745\n",
      "Time elapsed: 162.8028089125951\n",
      "epoch 2 loss: 221325877.18644178\n",
      "Time elapsed: 167.35705895026524\n",
      "epoch 3 loss: 212843184.29295886\n",
      "Time elapsed: 172.0782636642456\n",
      "epoch 4 loss: 212438812.45065087\n",
      "palo-alto\n",
      "Time elapsed: 174.29300076166788\n",
      "epoch 0 loss: 1212882064.4125674\n",
      "Time elapsed: 176.43316045602162\n",
      "epoch 1 loss: 919497258.9493331\n",
      "Time elapsed: 178.60580461422603\n",
      "epoch 2 loss: 697678381.1470947\n",
      "Time elapsed: 180.73394995133083\n",
      "epoch 3 loss: 518765077.1416691\n",
      "Time elapsed: 182.89810092051823\n",
      "epoch 4 loss: 379540950.0115853\n"
     ]
    }
   ],
   "source": [
    "import time\n",
    "\n",
    "start = time.time()\n",
    "\n",
    "batch_sz = 4  # batch size \n",
    "for city in cities:\n",
    "    print(city)\n",
    "    train_dataset = ArgoverseDataset(city = city, split = 'train')\n",
    "    train_loader = DataLoader(train_dataset, batch_size=batch_sz)\n",
    "\n",
    "    for epoch in range(30):\n",
    "\n",
    "        total_loss = 0\n",
    "        for i_batch, sample_batch in enumerate(train_loader):\n",
    "#             if i_batch % 100 == 0:\n",
    "#                 print(i_batch)\n",
    "            i, o = sample_batch\n",
    "            inp, out = i.to(device), o.to(device)\n",
    "            preds = transformer_model(inp.float(), out.float())\n",
    "            loss = ((preds - out) ** 2).sum()\n",
    "\n",
    "            opt.zero_grad()\n",
    "            loss.backward()\n",
    "            opt.step()\n",
    "\n",
    "            total_loss += loss.item()\n",
    "\n",
    "        end = time.time()\n",
    "        print('Time elapsed: {}'.format((end - start) / 60))\n",
    "        print('epoch {} loss: {}'.format(epoch, total_loss / len(train_dataset)))    "
   ]
  },
  {
   "cell_type": "markdown",
   "id": "341f0079",
   "metadata": {},
   "source": [
    "## Validation"
   ]
  },
  {
   "cell_type": "code",
   "execution_count": 7,
   "id": "da57dc99",
   "metadata": {},
   "outputs": [],
   "source": [
    "# val_dataset = ArgoverseDataset(city = 'austin', split = 'val')\n",
    "# val_loader = DataLoader(val_dataset, batch_size=batch_sz)\n",
    "\n",
    "# val_loss = 0\n",
    "# for i_batch, sample_batch in enumerate(val_loader):\n",
    "#     i, o = sample_batch\n",
    "#     inp, out = i.to(device), o.to(device)\n",
    "#     preds = pred(inp)\n",
    "#     loss = ((preds - out) ** 2).sum()\n",
    "\n",
    "#     val_loss += loss.item()\n",
    "# print('loss: {}'.format(val_loss / len(val_dataset)))"
   ]
  },
  {
   "cell_type": "markdown",
   "id": "8303614f",
   "metadata": {},
   "source": [
    "## Testing"
   ]
  },
  {
   "cell_type": "code",
   "execution_count": 8,
   "id": "14aafbd4",
   "metadata": {},
   "outputs": [],
   "source": [
    "import pandas as pd\n",
    "\n",
    "df = pd.read_csv(ROOT_PATH + 'submission.csv')\n",
    "int_col = df.select_dtypes(include=['int'])\n",
    "for col in int_col.columns.values:\n",
    "    df[col] = df[col].astype('float32')\n",
    "row = 0\n",
    "\n",
    "for city in cities:\n",
    "    print(city)\n",
    "    test_dataset = ArgoverseDataset(city = city, split = 'test')\n",
    "\n",
    "    for i in range(len(test_dataset.inputs)):\n",
    "        data = torch.from_numpy(test_dataset.inputs[i]).to(device)\n",
    "        preds = pred(data)\n",
    "        df.iloc[row, 1:121] = preds.cpu().detach().numpy().ravel()\n",
    "        row += 1\n",
    "        \n",
    "df.to_csv(ROOT_PATH + 'submission.csv')"
   ]
  },
  {
   "cell_type": "markdown",
   "id": "6f80b5e4",
   "metadata": {},
   "source": [
    "## Sample a batch of data and visualize "
   ]
  },
  {
   "cell_type": "code",
   "execution_count": 9,
   "id": "c6507c9a",
   "metadata": {},
   "outputs": [],
   "source": [
    "import matplotlib.pyplot as plt\n",
    "import random\n",
    "\n",
    "def show_sample_batch(sample_batch, version):\n",
    "    \"\"\"visualize the trajectory for a batch of samples\"\"\"\n",
    "    inp, out = sample_batch\n",
    "    batch_sz = inp.size(0)\n",
    "    agent_sz = inp.size(1)\n",
    "    \n",
    "    fig, axs = plt.subplots(1,batch_sz, figsize=(15, 3), facecolor='w', edgecolor='k')\n",
    "    fig.subplots_adjust(hspace = .5, wspace=.001)\n",
    "    if version == 'gt':\n",
    "        axs.set_title('Ground Truth')\n",
    "    elif version == 'pred':\n",
    "        axs.set_title('Prediction')\n",
    "        \n",
    "    axs = axs.ravel()   \n",
    "    for i in range(batch_sz):\n",
    "        axs[i].xaxis.set_ticks([])\n",
    "        axs[i].yaxis.set_ticks([])\n",
    "        \n",
    "        # first two feature dimensions are (x,y) positions\n",
    "        axs[i].scatter(inp[i,:,0], inp[i,:,1])\n",
    "        axs[i].scatter(out[i,:,0], out[i,:,1])\n",
    "\n",
    "        \n",
    "for i_batch, sample_batch in enumerate(train_loader):\n",
    "    if i_batch % 3000 == 0:\n",
    "        inp, out = sample_batch\n",
    "        show_sample_batch(sample_batch)"
   ]
  },
  {
   "cell_type": "code",
   "execution_count": 14,
   "id": "a5368d64",
   "metadata": {},
   "outputs": [],
   "source": [
    "# torch.save(transformer_model, './Data/saved_models/transformer_model')"
   ]
  }
 ],
 "metadata": {
  "kernelspec": {
   "display_name": "Python 3 (ipykernel)",
   "language": "python",
   "name": "python3"
  },
  "language_info": {
   "codemirror_mode": {
    "name": "ipython",
    "version": 3
   },
   "file_extension": ".py",
   "mimetype": "text/x-python",
   "name": "python",
   "nbconvert_exporter": "python",
   "pygments_lexer": "ipython3",
   "version": "3.9.5"
  }
 },
 "nbformat": 4,
 "nbformat_minor": 5
}
